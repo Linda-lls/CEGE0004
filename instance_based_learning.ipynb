{
  "cells": [
    {
      "cell_type": "markdown",
      "metadata": {
        "id": "view-in-github",
        "colab_type": "text"
      },
      "source": [
        "<a href=\"https://colab.research.google.com/github/Linda-lls/CEGE0004/blob/main/instance_based_learning.ipynb\" target=\"_parent\"><img src=\"https://colab.research.google.com/assets/colab-badge.svg\" alt=\"Open In Colab\"/></a>"
      ]
    },
    {
      "cell_type": "markdown",
      "metadata": {
        "pycharm": {
          "name": "#%% md\n"
        },
        "id": "4WEgmSeAWQFw"
      },
      "source": [
        "# Instance Based Learning\n",
        "\n",
        "In this notebook you will learn how to implement the k-Nearest Neighbors (kNN) algorithm in Python and learn how to\n",
        "use kNN and SVN algorithms in scikit-learn.\n",
        "\n",
        "## The Dataset\n",
        "\n",
        "In this notebook you will be working with the [Wine dataset](https://archive.ics.uci.edu/ml/datasets/Wine).\n",
        "This dataset is the result of a chemical analysis of wines\n",
        "grown in Italy but derived from three different cultivars. The analysis determined the quantities of 13 constituents\n",
        "found in each of the three types of wines.\n",
        "\n",
        "This is a good dataset for testing classifiers. In the following table we find some properties of this dataset.\n",
        "\n",
        "|Property|Value|\n",
        "|--|--|\n",
        "|Classes|3|\n",
        "|Samples per class|~59|\n",
        "|Samples total|178|\n",
        "|Dimensionality|13|\n",
        "|Features|positive, natural and real|\n",
        "\n",
        "Each example contains a class identifier and 13 attributes representing the outcome of the analysis performed on the\n",
        "wine samples.\n",
        "\n",
        "We will download this dataset directly from the UCI repository using Pandas. Note that this dataset does not have a\n",
        "header which means that we need to provide the column names manually. This header comes from reading the content of this\n",
        "[file](https://archive.ics.uci.edu/ml/machine-learning-databases/wine/wine.names)\n",
        "(you can open this file with a text editor)."
      ]
    },
    {
      "cell_type": "code",
      "execution_count": 1,
      "metadata": {
        "pycharm": {
          "name": "#%%\n"
        },
        "id": "PqYjQZdmWQF1"
      },
      "outputs": [],
      "source": [
        "import pandas as pd\n",
        "\n",
        "dataset_url = 'https://archive.ics.uci.edu/ml/machine-learning-databases/wine/wine.data'\n",
        "\n",
        "names = ['class', # label\n",
        "         'alcohol', 'malic_acid', 'ash', 'alcalinity_of_ash', 'magnesium', 'total phenols', 'flavanoids',\n",
        "         'non-flavanoid phenols', 'proanthocyanins', 'color_intensity', 'hue', 'protein_content', 'proline']\n",
        "\n",
        "df = pd.read_csv(dataset_url, names=names)"
      ]
    },
    {
      "cell_type": "markdown",
      "metadata": {
        "pycharm": {
          "name": "#%% md\n"
        },
        "id": "EwhkE8e6WQF3"
      },
      "source": [
        "Let's first have a look at the content of this dataframe."
      ]
    },
    {
      "cell_type": "code",
      "execution_count": 2,
      "metadata": {
        "pycharm": {
          "name": "#%%\n"
        },
        "colab": {
          "base_uri": "https://localhost:8080/",
          "height": 305
        },
        "id": "Qsn-o3TyWQF4",
        "outputId": "c224aa8e-14c9-4f89-ed0c-4682b529aee3"
      },
      "outputs": [
        {
          "output_type": "execute_result",
          "data": {
            "text/plain": [
              "   class  alcohol  malic_acid   ash  alcalinity_of_ash  magnesium  \\\n",
              "0      1    14.23        1.71  2.43               15.6        127   \n",
              "1      1    13.20        1.78  2.14               11.2        100   \n",
              "2      1    13.16        2.36  2.67               18.6        101   \n",
              "3      1    14.37        1.95  2.50               16.8        113   \n",
              "4      1    13.24        2.59  2.87               21.0        118   \n",
              "\n",
              "   total phenols  flavanoids  non-flavanoid phenols  proanthocyanins  \\\n",
              "0           2.80        3.06                   0.28             2.29   \n",
              "1           2.65        2.76                   0.26             1.28   \n",
              "2           2.80        3.24                   0.30             2.81   \n",
              "3           3.85        3.49                   0.24             2.18   \n",
              "4           2.80        2.69                   0.39             1.82   \n",
              "\n",
              "   color_intensity   hue  protein_content  proline  \n",
              "0             5.64  1.04             3.92     1065  \n",
              "1             4.38  1.05             3.40     1050  \n",
              "2             5.68  1.03             3.17     1185  \n",
              "3             7.80  0.86             3.45     1480  \n",
              "4             4.32  1.04             2.93      735  "
            ],
            "text/html": [
              "\n",
              "  <div id=\"df-e217055d-2f1b-4af7-a7c9-f62bb97f1435\">\n",
              "    <div class=\"colab-df-container\">\n",
              "      <div>\n",
              "<style scoped>\n",
              "    .dataframe tbody tr th:only-of-type {\n",
              "        vertical-align: middle;\n",
              "    }\n",
              "\n",
              "    .dataframe tbody tr th {\n",
              "        vertical-align: top;\n",
              "    }\n",
              "\n",
              "    .dataframe thead th {\n",
              "        text-align: right;\n",
              "    }\n",
              "</style>\n",
              "<table border=\"1\" class=\"dataframe\">\n",
              "  <thead>\n",
              "    <tr style=\"text-align: right;\">\n",
              "      <th></th>\n",
              "      <th>class</th>\n",
              "      <th>alcohol</th>\n",
              "      <th>malic_acid</th>\n",
              "      <th>ash</th>\n",
              "      <th>alcalinity_of_ash</th>\n",
              "      <th>magnesium</th>\n",
              "      <th>total phenols</th>\n",
              "      <th>flavanoids</th>\n",
              "      <th>non-flavanoid phenols</th>\n",
              "      <th>proanthocyanins</th>\n",
              "      <th>color_intensity</th>\n",
              "      <th>hue</th>\n",
              "      <th>protein_content</th>\n",
              "      <th>proline</th>\n",
              "    </tr>\n",
              "  </thead>\n",
              "  <tbody>\n",
              "    <tr>\n",
              "      <th>0</th>\n",
              "      <td>1</td>\n",
              "      <td>14.23</td>\n",
              "      <td>1.71</td>\n",
              "      <td>2.43</td>\n",
              "      <td>15.6</td>\n",
              "      <td>127</td>\n",
              "      <td>2.80</td>\n",
              "      <td>3.06</td>\n",
              "      <td>0.28</td>\n",
              "      <td>2.29</td>\n",
              "      <td>5.64</td>\n",
              "      <td>1.04</td>\n",
              "      <td>3.92</td>\n",
              "      <td>1065</td>\n",
              "    </tr>\n",
              "    <tr>\n",
              "      <th>1</th>\n",
              "      <td>1</td>\n",
              "      <td>13.20</td>\n",
              "      <td>1.78</td>\n",
              "      <td>2.14</td>\n",
              "      <td>11.2</td>\n",
              "      <td>100</td>\n",
              "      <td>2.65</td>\n",
              "      <td>2.76</td>\n",
              "      <td>0.26</td>\n",
              "      <td>1.28</td>\n",
              "      <td>4.38</td>\n",
              "      <td>1.05</td>\n",
              "      <td>3.40</td>\n",
              "      <td>1050</td>\n",
              "    </tr>\n",
              "    <tr>\n",
              "      <th>2</th>\n",
              "      <td>1</td>\n",
              "      <td>13.16</td>\n",
              "      <td>2.36</td>\n",
              "      <td>2.67</td>\n",
              "      <td>18.6</td>\n",
              "      <td>101</td>\n",
              "      <td>2.80</td>\n",
              "      <td>3.24</td>\n",
              "      <td>0.30</td>\n",
              "      <td>2.81</td>\n",
              "      <td>5.68</td>\n",
              "      <td>1.03</td>\n",
              "      <td>3.17</td>\n",
              "      <td>1185</td>\n",
              "    </tr>\n",
              "    <tr>\n",
              "      <th>3</th>\n",
              "      <td>1</td>\n",
              "      <td>14.37</td>\n",
              "      <td>1.95</td>\n",
              "      <td>2.50</td>\n",
              "      <td>16.8</td>\n",
              "      <td>113</td>\n",
              "      <td>3.85</td>\n",
              "      <td>3.49</td>\n",
              "      <td>0.24</td>\n",
              "      <td>2.18</td>\n",
              "      <td>7.80</td>\n",
              "      <td>0.86</td>\n",
              "      <td>3.45</td>\n",
              "      <td>1480</td>\n",
              "    </tr>\n",
              "    <tr>\n",
              "      <th>4</th>\n",
              "      <td>1</td>\n",
              "      <td>13.24</td>\n",
              "      <td>2.59</td>\n",
              "      <td>2.87</td>\n",
              "      <td>21.0</td>\n",
              "      <td>118</td>\n",
              "      <td>2.80</td>\n",
              "      <td>2.69</td>\n",
              "      <td>0.39</td>\n",
              "      <td>1.82</td>\n",
              "      <td>4.32</td>\n",
              "      <td>1.04</td>\n",
              "      <td>2.93</td>\n",
              "      <td>735</td>\n",
              "    </tr>\n",
              "  </tbody>\n",
              "</table>\n",
              "</div>\n",
              "      <button class=\"colab-df-convert\" onclick=\"convertToInteractive('df-e217055d-2f1b-4af7-a7c9-f62bb97f1435')\"\n",
              "              title=\"Convert this dataframe to an interactive table.\"\n",
              "              style=\"display:none;\">\n",
              "        \n",
              "  <svg xmlns=\"http://www.w3.org/2000/svg\" height=\"24px\"viewBox=\"0 0 24 24\"\n",
              "       width=\"24px\">\n",
              "    <path d=\"M0 0h24v24H0V0z\" fill=\"none\"/>\n",
              "    <path d=\"M18.56 5.44l.94 2.06.94-2.06 2.06-.94-2.06-.94-.94-2.06-.94 2.06-2.06.94zm-11 1L8.5 8.5l.94-2.06 2.06-.94-2.06-.94L8.5 2.5l-.94 2.06-2.06.94zm10 10l.94 2.06.94-2.06 2.06-.94-2.06-.94-.94-2.06-.94 2.06-2.06.94z\"/><path d=\"M17.41 7.96l-1.37-1.37c-.4-.4-.92-.59-1.43-.59-.52 0-1.04.2-1.43.59L10.3 9.45l-7.72 7.72c-.78.78-.78 2.05 0 2.83L4 21.41c.39.39.9.59 1.41.59.51 0 1.02-.2 1.41-.59l7.78-7.78 2.81-2.81c.8-.78.8-2.07 0-2.86zM5.41 20L4 18.59l7.72-7.72 1.47 1.35L5.41 20z\"/>\n",
              "  </svg>\n",
              "      </button>\n",
              "      \n",
              "  <style>\n",
              "    .colab-df-container {\n",
              "      display:flex;\n",
              "      flex-wrap:wrap;\n",
              "      gap: 12px;\n",
              "    }\n",
              "\n",
              "    .colab-df-convert {\n",
              "      background-color: #E8F0FE;\n",
              "      border: none;\n",
              "      border-radius: 50%;\n",
              "      cursor: pointer;\n",
              "      display: none;\n",
              "      fill: #1967D2;\n",
              "      height: 32px;\n",
              "      padding: 0 0 0 0;\n",
              "      width: 32px;\n",
              "    }\n",
              "\n",
              "    .colab-df-convert:hover {\n",
              "      background-color: #E2EBFA;\n",
              "      box-shadow: 0px 1px 2px rgba(60, 64, 67, 0.3), 0px 1px 3px 1px rgba(60, 64, 67, 0.15);\n",
              "      fill: #174EA6;\n",
              "    }\n",
              "\n",
              "    [theme=dark] .colab-df-convert {\n",
              "      background-color: #3B4455;\n",
              "      fill: #D2E3FC;\n",
              "    }\n",
              "\n",
              "    [theme=dark] .colab-df-convert:hover {\n",
              "      background-color: #434B5C;\n",
              "      box-shadow: 0px 1px 3px 1px rgba(0, 0, 0, 0.15);\n",
              "      filter: drop-shadow(0px 1px 2px rgba(0, 0, 0, 0.3));\n",
              "      fill: #FFFFFF;\n",
              "    }\n",
              "  </style>\n",
              "\n",
              "      <script>\n",
              "        const buttonEl =\n",
              "          document.querySelector('#df-e217055d-2f1b-4af7-a7c9-f62bb97f1435 button.colab-df-convert');\n",
              "        buttonEl.style.display =\n",
              "          google.colab.kernel.accessAllowed ? 'block' : 'none';\n",
              "\n",
              "        async function convertToInteractive(key) {\n",
              "          const element = document.querySelector('#df-e217055d-2f1b-4af7-a7c9-f62bb97f1435');\n",
              "          const dataTable =\n",
              "            await google.colab.kernel.invokeFunction('convertToInteractive',\n",
              "                                                     [key], {});\n",
              "          if (!dataTable) return;\n",
              "\n",
              "          const docLinkHtml = 'Like what you see? Visit the ' +\n",
              "            '<a target=\"_blank\" href=https://colab.research.google.com/notebooks/data_table.ipynb>data table notebook</a>'\n",
              "            + ' to learn more about interactive tables.';\n",
              "          element.innerHTML = '';\n",
              "          dataTable['output_type'] = 'display_data';\n",
              "          await google.colab.output.renderOutput(dataTable, element);\n",
              "          const docLink = document.createElement('div');\n",
              "          docLink.innerHTML = docLinkHtml;\n",
              "          element.appendChild(docLink);\n",
              "        }\n",
              "      </script>\n",
              "    </div>\n",
              "  </div>\n",
              "  "
            ]
          },
          "metadata": {},
          "execution_count": 2
        }
      ],
      "source": [
        "df.head()"
      ]
    },
    {
      "cell_type": "markdown",
      "metadata": {
        "pycharm": {
          "name": "#%% md\n"
        },
        "id": "UF5Qflq0WQF5"
      },
      "source": [
        "Let's also have a look at some statistics of the dataframe."
      ]
    },
    {
      "cell_type": "code",
      "execution_count": 3,
      "metadata": {
        "pycharm": {
          "name": "#%%\n"
        },
        "colab": {
          "base_uri": "https://localhost:8080/",
          "height": 399
        },
        "id": "UT8UVkITWQF6",
        "outputId": "bc92b1e7-5d1f-4922-abdd-7634c6ae1b52"
      },
      "outputs": [
        {
          "output_type": "execute_result",
          "data": {
            "text/plain": [
              "            class     alcohol  malic_acid         ash  alcalinity_of_ash  \\\n",
              "count  178.000000  178.000000  178.000000  178.000000         178.000000   \n",
              "mean     1.938202   13.000618    2.336348    2.366517          19.494944   \n",
              "std      0.775035    0.811827    1.117146    0.274344           3.339564   \n",
              "min      1.000000   11.030000    0.740000    1.360000          10.600000   \n",
              "25%      1.000000   12.362500    1.602500    2.210000          17.200000   \n",
              "50%      2.000000   13.050000    1.865000    2.360000          19.500000   \n",
              "75%      3.000000   13.677500    3.082500    2.557500          21.500000   \n",
              "max      3.000000   14.830000    5.800000    3.230000          30.000000   \n",
              "\n",
              "        magnesium  total phenols  flavanoids  non-flavanoid phenols  \\\n",
              "count  178.000000     178.000000  178.000000             178.000000   \n",
              "mean    99.741573       2.295112    2.029270               0.361854   \n",
              "std     14.282484       0.625851    0.998859               0.124453   \n",
              "min     70.000000       0.980000    0.340000               0.130000   \n",
              "25%     88.000000       1.742500    1.205000               0.270000   \n",
              "50%     98.000000       2.355000    2.135000               0.340000   \n",
              "75%    107.000000       2.800000    2.875000               0.437500   \n",
              "max    162.000000       3.880000    5.080000               0.660000   \n",
              "\n",
              "       proanthocyanins  color_intensity         hue  protein_content  \\\n",
              "count       178.000000       178.000000  178.000000       178.000000   \n",
              "mean          1.590899         5.058090    0.957449         2.611685   \n",
              "std           0.572359         2.318286    0.228572         0.709990   \n",
              "min           0.410000         1.280000    0.480000         1.270000   \n",
              "25%           1.250000         3.220000    0.782500         1.937500   \n",
              "50%           1.555000         4.690000    0.965000         2.780000   \n",
              "75%           1.950000         6.200000    1.120000         3.170000   \n",
              "max           3.580000        13.000000    1.710000         4.000000   \n",
              "\n",
              "           proline  \n",
              "count   178.000000  \n",
              "mean    746.893258  \n",
              "std     314.907474  \n",
              "min     278.000000  \n",
              "25%     500.500000  \n",
              "50%     673.500000  \n",
              "75%     985.000000  \n",
              "max    1680.000000  "
            ],
            "text/html": [
              "\n",
              "  <div id=\"df-f47f2f19-ac7b-495e-8231-a474c26876d6\">\n",
              "    <div class=\"colab-df-container\">\n",
              "      <div>\n",
              "<style scoped>\n",
              "    .dataframe tbody tr th:only-of-type {\n",
              "        vertical-align: middle;\n",
              "    }\n",
              "\n",
              "    .dataframe tbody tr th {\n",
              "        vertical-align: top;\n",
              "    }\n",
              "\n",
              "    .dataframe thead th {\n",
              "        text-align: right;\n",
              "    }\n",
              "</style>\n",
              "<table border=\"1\" class=\"dataframe\">\n",
              "  <thead>\n",
              "    <tr style=\"text-align: right;\">\n",
              "      <th></th>\n",
              "      <th>class</th>\n",
              "      <th>alcohol</th>\n",
              "      <th>malic_acid</th>\n",
              "      <th>ash</th>\n",
              "      <th>alcalinity_of_ash</th>\n",
              "      <th>magnesium</th>\n",
              "      <th>total phenols</th>\n",
              "      <th>flavanoids</th>\n",
              "      <th>non-flavanoid phenols</th>\n",
              "      <th>proanthocyanins</th>\n",
              "      <th>color_intensity</th>\n",
              "      <th>hue</th>\n",
              "      <th>protein_content</th>\n",
              "      <th>proline</th>\n",
              "    </tr>\n",
              "  </thead>\n",
              "  <tbody>\n",
              "    <tr>\n",
              "      <th>count</th>\n",
              "      <td>178.000000</td>\n",
              "      <td>178.000000</td>\n",
              "      <td>178.000000</td>\n",
              "      <td>178.000000</td>\n",
              "      <td>178.000000</td>\n",
              "      <td>178.000000</td>\n",
              "      <td>178.000000</td>\n",
              "      <td>178.000000</td>\n",
              "      <td>178.000000</td>\n",
              "      <td>178.000000</td>\n",
              "      <td>178.000000</td>\n",
              "      <td>178.000000</td>\n",
              "      <td>178.000000</td>\n",
              "      <td>178.000000</td>\n",
              "    </tr>\n",
              "    <tr>\n",
              "      <th>mean</th>\n",
              "      <td>1.938202</td>\n",
              "      <td>13.000618</td>\n",
              "      <td>2.336348</td>\n",
              "      <td>2.366517</td>\n",
              "      <td>19.494944</td>\n",
              "      <td>99.741573</td>\n",
              "      <td>2.295112</td>\n",
              "      <td>2.029270</td>\n",
              "      <td>0.361854</td>\n",
              "      <td>1.590899</td>\n",
              "      <td>5.058090</td>\n",
              "      <td>0.957449</td>\n",
              "      <td>2.611685</td>\n",
              "      <td>746.893258</td>\n",
              "    </tr>\n",
              "    <tr>\n",
              "      <th>std</th>\n",
              "      <td>0.775035</td>\n",
              "      <td>0.811827</td>\n",
              "      <td>1.117146</td>\n",
              "      <td>0.274344</td>\n",
              "      <td>3.339564</td>\n",
              "      <td>14.282484</td>\n",
              "      <td>0.625851</td>\n",
              "      <td>0.998859</td>\n",
              "      <td>0.124453</td>\n",
              "      <td>0.572359</td>\n",
              "      <td>2.318286</td>\n",
              "      <td>0.228572</td>\n",
              "      <td>0.709990</td>\n",
              "      <td>314.907474</td>\n",
              "    </tr>\n",
              "    <tr>\n",
              "      <th>min</th>\n",
              "      <td>1.000000</td>\n",
              "      <td>11.030000</td>\n",
              "      <td>0.740000</td>\n",
              "      <td>1.360000</td>\n",
              "      <td>10.600000</td>\n",
              "      <td>70.000000</td>\n",
              "      <td>0.980000</td>\n",
              "      <td>0.340000</td>\n",
              "      <td>0.130000</td>\n",
              "      <td>0.410000</td>\n",
              "      <td>1.280000</td>\n",
              "      <td>0.480000</td>\n",
              "      <td>1.270000</td>\n",
              "      <td>278.000000</td>\n",
              "    </tr>\n",
              "    <tr>\n",
              "      <th>25%</th>\n",
              "      <td>1.000000</td>\n",
              "      <td>12.362500</td>\n",
              "      <td>1.602500</td>\n",
              "      <td>2.210000</td>\n",
              "      <td>17.200000</td>\n",
              "      <td>88.000000</td>\n",
              "      <td>1.742500</td>\n",
              "      <td>1.205000</td>\n",
              "      <td>0.270000</td>\n",
              "      <td>1.250000</td>\n",
              "      <td>3.220000</td>\n",
              "      <td>0.782500</td>\n",
              "      <td>1.937500</td>\n",
              "      <td>500.500000</td>\n",
              "    </tr>\n",
              "    <tr>\n",
              "      <th>50%</th>\n",
              "      <td>2.000000</td>\n",
              "      <td>13.050000</td>\n",
              "      <td>1.865000</td>\n",
              "      <td>2.360000</td>\n",
              "      <td>19.500000</td>\n",
              "      <td>98.000000</td>\n",
              "      <td>2.355000</td>\n",
              "      <td>2.135000</td>\n",
              "      <td>0.340000</td>\n",
              "      <td>1.555000</td>\n",
              "      <td>4.690000</td>\n",
              "      <td>0.965000</td>\n",
              "      <td>2.780000</td>\n",
              "      <td>673.500000</td>\n",
              "    </tr>\n",
              "    <tr>\n",
              "      <th>75%</th>\n",
              "      <td>3.000000</td>\n",
              "      <td>13.677500</td>\n",
              "      <td>3.082500</td>\n",
              "      <td>2.557500</td>\n",
              "      <td>21.500000</td>\n",
              "      <td>107.000000</td>\n",
              "      <td>2.800000</td>\n",
              "      <td>2.875000</td>\n",
              "      <td>0.437500</td>\n",
              "      <td>1.950000</td>\n",
              "      <td>6.200000</td>\n",
              "      <td>1.120000</td>\n",
              "      <td>3.170000</td>\n",
              "      <td>985.000000</td>\n",
              "    </tr>\n",
              "    <tr>\n",
              "      <th>max</th>\n",
              "      <td>3.000000</td>\n",
              "      <td>14.830000</td>\n",
              "      <td>5.800000</td>\n",
              "      <td>3.230000</td>\n",
              "      <td>30.000000</td>\n",
              "      <td>162.000000</td>\n",
              "      <td>3.880000</td>\n",
              "      <td>5.080000</td>\n",
              "      <td>0.660000</td>\n",
              "      <td>3.580000</td>\n",
              "      <td>13.000000</td>\n",
              "      <td>1.710000</td>\n",
              "      <td>4.000000</td>\n",
              "      <td>1680.000000</td>\n",
              "    </tr>\n",
              "  </tbody>\n",
              "</table>\n",
              "</div>\n",
              "      <button class=\"colab-df-convert\" onclick=\"convertToInteractive('df-f47f2f19-ac7b-495e-8231-a474c26876d6')\"\n",
              "              title=\"Convert this dataframe to an interactive table.\"\n",
              "              style=\"display:none;\">\n",
              "        \n",
              "  <svg xmlns=\"http://www.w3.org/2000/svg\" height=\"24px\"viewBox=\"0 0 24 24\"\n",
              "       width=\"24px\">\n",
              "    <path d=\"M0 0h24v24H0V0z\" fill=\"none\"/>\n",
              "    <path d=\"M18.56 5.44l.94 2.06.94-2.06 2.06-.94-2.06-.94-.94-2.06-.94 2.06-2.06.94zm-11 1L8.5 8.5l.94-2.06 2.06-.94-2.06-.94L8.5 2.5l-.94 2.06-2.06.94zm10 10l.94 2.06.94-2.06 2.06-.94-2.06-.94-.94-2.06-.94 2.06-2.06.94z\"/><path d=\"M17.41 7.96l-1.37-1.37c-.4-.4-.92-.59-1.43-.59-.52 0-1.04.2-1.43.59L10.3 9.45l-7.72 7.72c-.78.78-.78 2.05 0 2.83L4 21.41c.39.39.9.59 1.41.59.51 0 1.02-.2 1.41-.59l7.78-7.78 2.81-2.81c.8-.78.8-2.07 0-2.86zM5.41 20L4 18.59l7.72-7.72 1.47 1.35L5.41 20z\"/>\n",
              "  </svg>\n",
              "      </button>\n",
              "      \n",
              "  <style>\n",
              "    .colab-df-container {\n",
              "      display:flex;\n",
              "      flex-wrap:wrap;\n",
              "      gap: 12px;\n",
              "    }\n",
              "\n",
              "    .colab-df-convert {\n",
              "      background-color: #E8F0FE;\n",
              "      border: none;\n",
              "      border-radius: 50%;\n",
              "      cursor: pointer;\n",
              "      display: none;\n",
              "      fill: #1967D2;\n",
              "      height: 32px;\n",
              "      padding: 0 0 0 0;\n",
              "      width: 32px;\n",
              "    }\n",
              "\n",
              "    .colab-df-convert:hover {\n",
              "      background-color: #E2EBFA;\n",
              "      box-shadow: 0px 1px 2px rgba(60, 64, 67, 0.3), 0px 1px 3px 1px rgba(60, 64, 67, 0.15);\n",
              "      fill: #174EA6;\n",
              "    }\n",
              "\n",
              "    [theme=dark] .colab-df-convert {\n",
              "      background-color: #3B4455;\n",
              "      fill: #D2E3FC;\n",
              "    }\n",
              "\n",
              "    [theme=dark] .colab-df-convert:hover {\n",
              "      background-color: #434B5C;\n",
              "      box-shadow: 0px 1px 3px 1px rgba(0, 0, 0, 0.15);\n",
              "      filter: drop-shadow(0px 1px 2px rgba(0, 0, 0, 0.3));\n",
              "      fill: #FFFFFF;\n",
              "    }\n",
              "  </style>\n",
              "\n",
              "      <script>\n",
              "        const buttonEl =\n",
              "          document.querySelector('#df-f47f2f19-ac7b-495e-8231-a474c26876d6 button.colab-df-convert');\n",
              "        buttonEl.style.display =\n",
              "          google.colab.kernel.accessAllowed ? 'block' : 'none';\n",
              "\n",
              "        async function convertToInteractive(key) {\n",
              "          const element = document.querySelector('#df-f47f2f19-ac7b-495e-8231-a474c26876d6');\n",
              "          const dataTable =\n",
              "            await google.colab.kernel.invokeFunction('convertToInteractive',\n",
              "                                                     [key], {});\n",
              "          if (!dataTable) return;\n",
              "\n",
              "          const docLinkHtml = 'Like what you see? Visit the ' +\n",
              "            '<a target=\"_blank\" href=https://colab.research.google.com/notebooks/data_table.ipynb>data table notebook</a>'\n",
              "            + ' to learn more about interactive tables.';\n",
              "          element.innerHTML = '';\n",
              "          dataTable['output_type'] = 'display_data';\n",
              "          await google.colab.output.renderOutput(dataTable, element);\n",
              "          const docLink = document.createElement('div');\n",
              "          docLink.innerHTML = docLinkHtml;\n",
              "          element.appendChild(docLink);\n",
              "        }\n",
              "      </script>\n",
              "    </div>\n",
              "  </div>\n",
              "  "
            ]
          },
          "metadata": {},
          "execution_count": 3
        }
      ],
      "source": [
        "df.describe()"
      ]
    },
    {
      "cell_type": "markdown",
      "metadata": {
        "pycharm": {
          "name": "#%% md\n"
        },
        "id": "7WxikKgwWQF7"
      },
      "source": [
        "## Preprocessing the Dataset\n",
        "\n",
        "This dataset will require some preprocessing. First, since we would like to test how any of the learning algorithms\n",
        "used later perform on unseen data. We split the dataset into a training set and a test set.\n",
        "\n",
        "To do this we first randomize the data. We do this in order to make sure to select an unbiased set of examples\n",
        "for the test set. Notice that in this case the training is sorted based on the target `class`, which makes the\n",
        "initial randomization necessary."
      ]
    },
    {
      "cell_type": "code",
      "execution_count": 4,
      "metadata": {
        "pycharm": {
          "name": "#%%\n"
        },
        "colab": {
          "base_uri": "https://localhost:8080/",
          "height": 305
        },
        "id": "ZJXhr9CWWQF7",
        "outputId": "50f5e0a3-9dba-407b-83a3-e97bc135d28a"
      },
      "outputs": [
        {
          "output_type": "execute_result",
          "data": {
            "text/plain": [
              "     class  alcohol  malic_acid   ash  alcalinity_of_ash  magnesium  \\\n",
              "102      2    12.34        2.45  2.46               21.0         98   \n",
              "118      2    12.77        3.43  1.98               16.0         80   \n",
              "157      3    12.45        3.03  2.64               27.0         97   \n",
              "51       1    13.83        1.65  2.60               17.2         94   \n",
              "172      3    14.16        2.51  2.48               20.0         91   \n",
              "\n",
              "     total phenols  flavanoids  non-flavanoid phenols  proanthocyanins  \\\n",
              "102           2.56        2.11                   0.34             1.31   \n",
              "118           1.63        1.25                   0.43             0.83   \n",
              "157           1.90        0.58                   0.63             1.14   \n",
              "51            2.45        2.99                   0.22             2.29   \n",
              "172           1.68        0.70                   0.44             1.24   \n",
              "\n",
              "     color_intensity   hue  protein_content  proline  \n",
              "102              2.8  0.80             3.38      438  \n",
              "118              3.4  0.70             2.12      372  \n",
              "157              7.5  0.67             1.73      880  \n",
              "51               5.6  1.24             3.37     1265  \n",
              "172              9.7  0.62             1.71      660  "
            ],
            "text/html": [
              "\n",
              "  <div id=\"df-3b8dc82b-2054-48e5-9e0a-7a1cc19bf180\">\n",
              "    <div class=\"colab-df-container\">\n",
              "      <div>\n",
              "<style scoped>\n",
              "    .dataframe tbody tr th:only-of-type {\n",
              "        vertical-align: middle;\n",
              "    }\n",
              "\n",
              "    .dataframe tbody tr th {\n",
              "        vertical-align: top;\n",
              "    }\n",
              "\n",
              "    .dataframe thead th {\n",
              "        text-align: right;\n",
              "    }\n",
              "</style>\n",
              "<table border=\"1\" class=\"dataframe\">\n",
              "  <thead>\n",
              "    <tr style=\"text-align: right;\">\n",
              "      <th></th>\n",
              "      <th>class</th>\n",
              "      <th>alcohol</th>\n",
              "      <th>malic_acid</th>\n",
              "      <th>ash</th>\n",
              "      <th>alcalinity_of_ash</th>\n",
              "      <th>magnesium</th>\n",
              "      <th>total phenols</th>\n",
              "      <th>flavanoids</th>\n",
              "      <th>non-flavanoid phenols</th>\n",
              "      <th>proanthocyanins</th>\n",
              "      <th>color_intensity</th>\n",
              "      <th>hue</th>\n",
              "      <th>protein_content</th>\n",
              "      <th>proline</th>\n",
              "    </tr>\n",
              "  </thead>\n",
              "  <tbody>\n",
              "    <tr>\n",
              "      <th>102</th>\n",
              "      <td>2</td>\n",
              "      <td>12.34</td>\n",
              "      <td>2.45</td>\n",
              "      <td>2.46</td>\n",
              "      <td>21.0</td>\n",
              "      <td>98</td>\n",
              "      <td>2.56</td>\n",
              "      <td>2.11</td>\n",
              "      <td>0.34</td>\n",
              "      <td>1.31</td>\n",
              "      <td>2.8</td>\n",
              "      <td>0.80</td>\n",
              "      <td>3.38</td>\n",
              "      <td>438</td>\n",
              "    </tr>\n",
              "    <tr>\n",
              "      <th>118</th>\n",
              "      <td>2</td>\n",
              "      <td>12.77</td>\n",
              "      <td>3.43</td>\n",
              "      <td>1.98</td>\n",
              "      <td>16.0</td>\n",
              "      <td>80</td>\n",
              "      <td>1.63</td>\n",
              "      <td>1.25</td>\n",
              "      <td>0.43</td>\n",
              "      <td>0.83</td>\n",
              "      <td>3.4</td>\n",
              "      <td>0.70</td>\n",
              "      <td>2.12</td>\n",
              "      <td>372</td>\n",
              "    </tr>\n",
              "    <tr>\n",
              "      <th>157</th>\n",
              "      <td>3</td>\n",
              "      <td>12.45</td>\n",
              "      <td>3.03</td>\n",
              "      <td>2.64</td>\n",
              "      <td>27.0</td>\n",
              "      <td>97</td>\n",
              "      <td>1.90</td>\n",
              "      <td>0.58</td>\n",
              "      <td>0.63</td>\n",
              "      <td>1.14</td>\n",
              "      <td>7.5</td>\n",
              "      <td>0.67</td>\n",
              "      <td>1.73</td>\n",
              "      <td>880</td>\n",
              "    </tr>\n",
              "    <tr>\n",
              "      <th>51</th>\n",
              "      <td>1</td>\n",
              "      <td>13.83</td>\n",
              "      <td>1.65</td>\n",
              "      <td>2.60</td>\n",
              "      <td>17.2</td>\n",
              "      <td>94</td>\n",
              "      <td>2.45</td>\n",
              "      <td>2.99</td>\n",
              "      <td>0.22</td>\n",
              "      <td>2.29</td>\n",
              "      <td>5.6</td>\n",
              "      <td>1.24</td>\n",
              "      <td>3.37</td>\n",
              "      <td>1265</td>\n",
              "    </tr>\n",
              "    <tr>\n",
              "      <th>172</th>\n",
              "      <td>3</td>\n",
              "      <td>14.16</td>\n",
              "      <td>2.51</td>\n",
              "      <td>2.48</td>\n",
              "      <td>20.0</td>\n",
              "      <td>91</td>\n",
              "      <td>1.68</td>\n",
              "      <td>0.70</td>\n",
              "      <td>0.44</td>\n",
              "      <td>1.24</td>\n",
              "      <td>9.7</td>\n",
              "      <td>0.62</td>\n",
              "      <td>1.71</td>\n",
              "      <td>660</td>\n",
              "    </tr>\n",
              "  </tbody>\n",
              "</table>\n",
              "</div>\n",
              "      <button class=\"colab-df-convert\" onclick=\"convertToInteractive('df-3b8dc82b-2054-48e5-9e0a-7a1cc19bf180')\"\n",
              "              title=\"Convert this dataframe to an interactive table.\"\n",
              "              style=\"display:none;\">\n",
              "        \n",
              "  <svg xmlns=\"http://www.w3.org/2000/svg\" height=\"24px\"viewBox=\"0 0 24 24\"\n",
              "       width=\"24px\">\n",
              "    <path d=\"M0 0h24v24H0V0z\" fill=\"none\"/>\n",
              "    <path d=\"M18.56 5.44l.94 2.06.94-2.06 2.06-.94-2.06-.94-.94-2.06-.94 2.06-2.06.94zm-11 1L8.5 8.5l.94-2.06 2.06-.94-2.06-.94L8.5 2.5l-.94 2.06-2.06.94zm10 10l.94 2.06.94-2.06 2.06-.94-2.06-.94-.94-2.06-.94 2.06-2.06.94z\"/><path d=\"M17.41 7.96l-1.37-1.37c-.4-.4-.92-.59-1.43-.59-.52 0-1.04.2-1.43.59L10.3 9.45l-7.72 7.72c-.78.78-.78 2.05 0 2.83L4 21.41c.39.39.9.59 1.41.59.51 0 1.02-.2 1.41-.59l7.78-7.78 2.81-2.81c.8-.78.8-2.07 0-2.86zM5.41 20L4 18.59l7.72-7.72 1.47 1.35L5.41 20z\"/>\n",
              "  </svg>\n",
              "      </button>\n",
              "      \n",
              "  <style>\n",
              "    .colab-df-container {\n",
              "      display:flex;\n",
              "      flex-wrap:wrap;\n",
              "      gap: 12px;\n",
              "    }\n",
              "\n",
              "    .colab-df-convert {\n",
              "      background-color: #E8F0FE;\n",
              "      border: none;\n",
              "      border-radius: 50%;\n",
              "      cursor: pointer;\n",
              "      display: none;\n",
              "      fill: #1967D2;\n",
              "      height: 32px;\n",
              "      padding: 0 0 0 0;\n",
              "      width: 32px;\n",
              "    }\n",
              "\n",
              "    .colab-df-convert:hover {\n",
              "      background-color: #E2EBFA;\n",
              "      box-shadow: 0px 1px 2px rgba(60, 64, 67, 0.3), 0px 1px 3px 1px rgba(60, 64, 67, 0.15);\n",
              "      fill: #174EA6;\n",
              "    }\n",
              "\n",
              "    [theme=dark] .colab-df-convert {\n",
              "      background-color: #3B4455;\n",
              "      fill: #D2E3FC;\n",
              "    }\n",
              "\n",
              "    [theme=dark] .colab-df-convert:hover {\n",
              "      background-color: #434B5C;\n",
              "      box-shadow: 0px 1px 3px 1px rgba(0, 0, 0, 0.15);\n",
              "      filter: drop-shadow(0px 1px 2px rgba(0, 0, 0, 0.3));\n",
              "      fill: #FFFFFF;\n",
              "    }\n",
              "  </style>\n",
              "\n",
              "      <script>\n",
              "        const buttonEl =\n",
              "          document.querySelector('#df-3b8dc82b-2054-48e5-9e0a-7a1cc19bf180 button.colab-df-convert');\n",
              "        buttonEl.style.display =\n",
              "          google.colab.kernel.accessAllowed ? 'block' : 'none';\n",
              "\n",
              "        async function convertToInteractive(key) {\n",
              "          const element = document.querySelector('#df-3b8dc82b-2054-48e5-9e0a-7a1cc19bf180');\n",
              "          const dataTable =\n",
              "            await google.colab.kernel.invokeFunction('convertToInteractive',\n",
              "                                                     [key], {});\n",
              "          if (!dataTable) return;\n",
              "\n",
              "          const docLinkHtml = 'Like what you see? Visit the ' +\n",
              "            '<a target=\"_blank\" href=https://colab.research.google.com/notebooks/data_table.ipynb>data table notebook</a>'\n",
              "            + ' to learn more about interactive tables.';\n",
              "          element.innerHTML = '';\n",
              "          dataTable['output_type'] = 'display_data';\n",
              "          await google.colab.output.renderOutput(dataTable, element);\n",
              "          const docLink = document.createElement('div');\n",
              "          docLink.innerHTML = docLinkHtml;\n",
              "          element.appendChild(docLink);\n",
              "        }\n",
              "      </script>\n",
              "    </div>\n",
              "  </div>\n",
              "  "
            ]
          },
          "metadata": {},
          "execution_count": 4
        }
      ],
      "source": [
        "df = df.sample(frac=1) # 对pandas的DataFrame进行随机抽样（random sampling），frac表示抽样的比例，1表示随机抽取全部数据，0.5表示随机抽取一半的数据。\n",
        "df.head()"
      ]
    },
    {
      "cell_type": "code",
      "execution_count": 5,
      "metadata": {
        "colab": {
          "base_uri": "https://localhost:8080/"
        },
        "id": "wwLqYgAFWQF8",
        "outputId": "c355c95d-3beb-4abf-dd73-06514c8fd30a"
      },
      "outputs": [
        {
          "output_type": "execute_result",
          "data": {
            "text/plain": [
              "array([[2.000e+00, 1.234e+01, 2.450e+00, ..., 8.000e-01, 3.380e+00,\n",
              "        4.380e+02],\n",
              "       [2.000e+00, 1.277e+01, 3.430e+00, ..., 7.000e-01, 2.120e+00,\n",
              "        3.720e+02],\n",
              "       [3.000e+00, 1.245e+01, 3.030e+00, ..., 6.700e-01, 1.730e+00,\n",
              "        8.800e+02],\n",
              "       ...,\n",
              "       [3.000e+00, 1.358e+01, 2.580e+00, ..., 7.400e-01, 1.800e+00,\n",
              "        7.500e+02],\n",
              "       [2.000e+00, 1.247e+01, 1.520e+00, ..., 1.160e+00, 2.630e+00,\n",
              "        9.370e+02],\n",
              "       [2.000e+00, 1.243e+01, 1.530e+00, ..., 6.900e-01, 2.840e+00,\n",
              "        3.520e+02]])"
            ]
          },
          "metadata": {},
          "execution_count": 5
        }
      ],
      "source": [
        "df.values # 将DataFrame转换为NumPy数组，以便进行各种数值计算和机器学习操作。"
      ]
    },
    {
      "cell_type": "markdown",
      "metadata": {
        "pycharm": {
          "name": "#%% md\n"
        },
        "id": "dzXduot4WQF9"
      },
      "source": [
        "We now separate the target `class` from the rest of the attributes."
      ]
    },
    {
      "cell_type": "code",
      "execution_count": 6,
      "metadata": {
        "pycharm": {
          "name": "#%%\n"
        },
        "id": "eQIFxNccWQF9"
      },
      "outputs": [],
      "source": [
        "import numpy as np\n",
        "\n",
        "# this sets the numpy to print numbers with float precision (this setting affects only the prints not the actual values)\n",
        "np.set_printoptions(suppress=True)\n",
        "\n",
        "ys, xs = np.split(df.values, [1], axis=1) # axis=1表示按列进行划分；[1]表示将数组按照第1列进行切分，因此ys包含了第1列数据，xs包含了其他列的数据\n",
        "ys = ys.reshape(-1) # 将ys数组从二维数组（n_samples, 1）转换为一维数组（n_samples）"
      ]
    },
    {
      "cell_type": "markdown",
      "metadata": {
        "pycharm": {
          "name": "#%% md\n"
        },
        "id": "f3OpFqBJWQF-"
      },
      "source": [
        "And select 80% of the dataset for training and 20% for testing."
      ]
    },
    {
      "cell_type": "code",
      "execution_count": 7,
      "metadata": {
        "pycharm": {
          "name": "#%%\n"
        },
        "colab": {
          "base_uri": "https://localhost:8080/"
        },
        "id": "OYOB0XcHWQF_",
        "outputId": "6437ff29-3258-4080-8d9f-feed58830ee9"
      },
      "outputs": [
        {
          "output_type": "stream",
          "name": "stdout",
          "text": [
            "training set shape:\t (142, 13)\n",
            "test set shape:\t\t (36, 13)\n"
          ]
        }
      ],
      "source": [
        "n_train = len(xs) * 80 // 100\n",
        "xs_train, xs_test = np.split(xs, [n_train], axis=0) # 使用np.split函数将xs数组按照n_train位置分割成两个数组xs_train和xs_test\n",
        "ys_train, ys_test = np.split(ys, [n_train], axis=0)\n",
        "\n",
        "print('training set shape:\\t', xs_train.shape)\n",
        "# xs_train和ys_train是训练集的特征和标签，因此它们的形状信息反映了训练集中样本的数量和特征维度。（'\\t'表示空白字符）\n",
        "print('test set shape:\\t\\t', xs_test.shape)"
      ]
    },
    {
      "cell_type": "markdown",
      "metadata": {
        "pycharm": {
          "name": "#%% md\n"
        },
        "id": "M9N8qzRMWQF_"
      },
      "source": [
        "Now, we note that attribute values span across various ranges: Some attributes have a much wider range than others.\n",
        "Since the learning algorithms that we will be using later are based on some form of distance function,\n",
        "this variance in the ranges of the attributes may bias the learning algorithm towards examples that look closer in\n",
        "dimensions with a wider range because those attributes will dominate the distance functions.\n",
        "In order to mitigate this bias we perform a normalization across the features. In this case we will perform a\n",
        "standardization (aka Z-score):\n",
        "\n",
        "\\begin{equation}\n",
        "z = \\frac{x-\\mu}{\\sigma}\n",
        "\\end{equation}\n",
        "\n",
        "Any other normalization that achieves a similar result is also fine."
      ]
    },
    {
      "cell_type": "code",
      "execution_count": 8,
      "metadata": {
        "pycharm": {
          "name": "#%%\n"
        },
        "id": "hzROYuBlWQGA"
      },
      "outputs": [],
      "source": [
        "# Data Normalization\n",
        "mu = np.mean(xs_train, axis=0)\n",
        "sigma = np.std(xs_train, axis=0)\n",
        "\n",
        "xs_train = (xs_train - mu)/sigma\n",
        "xs_test = (xs_test - mu)/sigma"
      ]
    },
    {
      "cell_type": "markdown",
      "metadata": {
        "pycharm": {
          "name": "#%% md\n"
        },
        "id": "wyd0_EnBWQGB"
      },
      "source": [
        "Note that the normalization should be computed on the training set and not on the original dataset. This in order to\n",
        "better simulate unseen data. The normalization, together with any preprocessing step that involves statistics over\n",
        "the dataset, should also be considered as belonging to the hyper-parameters of the learning algorithm.\n",
        "\n",
        "After having performed the normalization, if we now compute the mean of the preprocessed training set, we should see\n",
        "that now this mean vector contains only zeros."
      ]
    },
    {
      "cell_type": "code",
      "execution_count": 9,
      "metadata": {
        "pycharm": {
          "name": "#%%\n"
        },
        "colab": {
          "base_uri": "https://localhost:8080/"
        },
        "id": "z1TYoBhAWQGB",
        "outputId": "2d52e784-15c8-431e-cb9e-fd5f6d5fbd4c"
      },
      "outputs": [
        {
          "output_type": "execute_result",
          "data": {
            "text/plain": [
              "array([ 0., -0.,  0.,  0.,  0., -0., -0.,  0., -0., -0., -0., -0., -0.])"
            ]
          },
          "metadata": {},
          "execution_count": 9
        }
      ],
      "source": [
        "np.mean(xs_train, axis=0)"
      ]
    },
    {
      "cell_type": "markdown",
      "metadata": {
        "pycharm": {
          "name": "#%% md\n"
        },
        "id": "EnHqkBNuWQGC"
      },
      "source": [
        "If we have properly sampled the dataset, we should get a mean vector for the test set that contains close to zero\n",
        "values."
      ]
    },
    {
      "cell_type": "code",
      "execution_count": 10,
      "metadata": {
        "pycharm": {
          "name": "#%%\n"
        },
        "colab": {
          "base_uri": "https://localhost:8080/"
        },
        "id": "2DBnHDnXWQGC",
        "outputId": "f47e0272-b970-4264-d49c-283f1b19d020"
      },
      "outputs": [
        {
          "output_type": "execute_result",
          "data": {
            "text/plain": [
              "array([ 0.00720319, -0.58344075, -0.02846314, -0.16294018,  0.30287765,\n",
              "        0.45329654,  0.43058219, -0.18167371,  0.52703031, -0.08042473,\n",
              "        0.35104844,  0.30650311,  0.19541439])"
            ]
          },
          "metadata": {},
          "execution_count": 10
        }
      ],
      "source": [
        "np.mean(xs_test, axis=0)\n"
      ]
    },
    {
      "cell_type": "markdown",
      "metadata": {
        "pycharm": {
          "name": "#%% md\n"
        },
        "id": "OMBsCexrWQGD"
      },
      "source": [
        "## The Nearest Neighbor Algorithm\n",
        "\n",
        "We will now implement the Nearest Neighbor (NN) algorithm in Python from scratch."
      ]
    },
    {
      "cell_type": "code",
      "execution_count": 11,
      "metadata": {
        "pycharm": {
          "name": "#%%\n"
        },
        "id": "iLkd36nJWQGE"
      },
      "outputs": [],
      "source": [
        "class NN:\n",
        "\n",
        "    def __init__(self, distance): # 初始化：创建一个空的训练数据集和一个距离度量函数（distance）\n",
        "        self.training_examples = []\n",
        "        self.distance = distance\n",
        "\n",
        "    def add_example(self, x, y): \n",
        "        \"\"\"\n",
        "        Add one example to the list of training examples.\n",
        "        :param x: The vector of feature values\n",
        "        :param y: The label associated to this example\n",
        "        \"\"\"\n",
        "        self.training_examples.append((x, y))\n",
        "\n",
        "    def add_examples(self, xs, ys):\n",
        "        \"\"\"\n",
        "        Add a list of examples to the list of training examples.\n",
        "        :param xs: A list of vectors of fature values\n",
        "        :param ys: A list of labels associated to the examples\n",
        "        \"\"\"\n",
        "        for x, y in zip(xs, ys):\n",
        "            self.add_example(x, y)\n",
        "\n",
        "    def closest_training_example(self, x_q): # 找到最近的训练数据点：对于新的数据点（xq），计算它与训练数据集中每个点的距离，然后找到距离最近的数据点。\n",
        "        y_closest = None\n",
        "        x_closest = None\n",
        "        min_score = float('inf') # 将变量 min_score 初始化为正无穷大（infinity）,以保证第一个训练数据点（x, y）与测试数据点（x_q）之间的距离更小。\n",
        "        # find closest example\n",
        "        for x, y in self.training_examples:\n",
        "            score = self.distance(x_q, x)\n",
        "            if score < min_score:\n",
        "                min_score = score\n",
        "                x_closest = x\n",
        "                y_closest = y\n",
        "\n",
        "        return x_closest, y_closest\n",
        "\n",
        "    def classify(self, xq): # 预测标签：使用最近的数据点的标签（y）作为预测标签（y_hat）\n",
        "        _, y_hat = self.closest_training_example(xq)\n",
        "        return y_hat"
      ]
    },
    {
      "cell_type": "markdown",
      "metadata": {
        "collapsed": true,
        "pycharm": {
          "name": "#%% md\n"
        },
        "id": "0tjgDtdMWQGE"
      },
      "source": [
        "In order to instantiate this classifier we need to define a distance function. Since we are dealing with continuous\n",
        "features we will define the euclidean distance. You are invited to develop and test another distance measure."
      ]
    },
    {
      "cell_type": "code",
      "execution_count": 12,
      "metadata": {
        "pycharm": {
          "name": "#%%\n"
        },
        "id": "aL261vt-WQGF"
      },
      "outputs": [],
      "source": [
        "def euclidean_distance(x_1, x_2):\n",
        "    res = 0\n",
        "    for a_1, a_2 in zip(x_1, x_2):\n",
        "        res += (a_1 - a_2) ** 2\n",
        "        res = res + (a_1 - a_2) ** 2\n",
        "    res **= 0.5\n",
        "    res = res ** 0.5\n",
        "    return res"
      ]
    },
    {
      "cell_type": "markdown",
      "metadata": {
        "pycharm": {
          "name": "#%% md\n"
        },
        "id": "wTcEc8ehWQGF"
      },
      "source": [
        "The euclidean distance of the points (0, 0) and (1, 1) should be $\\sqrt{2}$."
      ]
    },
    {
      "cell_type": "code",
      "execution_count": 13,
      "metadata": {
        "pycharm": {
          "name": "#%%\n"
        },
        "colab": {
          "base_uri": "https://localhost:8080/"
        },
        "id": "8dQa_5rZWQGG",
        "outputId": "4fc2d215-4795-4d02-d1b4-9a70ab1afabb"
      },
      "outputs": [
        {
          "output_type": "execute_result",
          "data": {
            "text/plain": [
              "1.4142135623730951"
            ]
          },
          "metadata": {},
          "execution_count": 13
        }
      ],
      "source": [
        "euclidean_distance([0, 0], [1, 1])"
      ]
    },
    {
      "cell_type": "markdown",
      "metadata": {
        "pycharm": {
          "name": "#%% md\n"
        },
        "id": "fcY8TRNzWQGG"
      },
      "source": [
        "We now instantiate the NN classifier and train it."
      ]
    },
    {
      "cell_type": "code",
      "execution_count": 14,
      "metadata": {
        "pycharm": {
          "name": "#%%\n"
        },
        "id": "lXM1JAWOWQGH"
      },
      "outputs": [],
      "source": [
        "nn_clf = NN(euclidean_distance)\n",
        "\n",
        "nn_clf.add_examples(xs_train, ys_train)"
      ]
    },
    {
      "cell_type": "markdown",
      "metadata": {
        "pycharm": {
          "name": "#%% md\n"
        },
        "id": "P072TWTBWQGH"
      },
      "source": [
        "To evaluate how this classifier performs on the test set we will measure its accuracy. Note that evaluating the\n",
        "accuracy on the training set is pointless because this will always be 1 by definition. We will now do also this only for\n",
        "instructive purposes.\n",
        "\n",
        "We now define the accuracy measure. Remember that the accuracy is equal to the proportion of examples that the\n",
        "classifier predicted correctly."
      ]
    },
    {
      "cell_type": "code",
      "execution_count": 15,
      "metadata": {
        "pycharm": {
          "name": "#%%\n"
        },
        "id": "H2NeMhwfWQGI"
      },
      "outputs": [],
      "source": [
        "def accuracy(ys, ys_hat):\n",
        "    res = 0\n",
        "    for y, y_hat in zip(ys, ys_hat):\n",
        "        if y == y_hat:\n",
        "            res += 1 # 如果预测值等于实际值，res = res + 1\n",
        "    res /= len(ys) \n",
        "    return res"
      ]
    },
    {
      "cell_type": "markdown",
      "metadata": {
        "pycharm": {
          "name": "#%% md\n"
        },
        "id": "QyuU_BogWQGI"
      },
      "source": [
        "We now test the classifier on both training and test sets."
      ]
    },
    {
      "cell_type": "code",
      "execution_count": 16,
      "metadata": {
        "pycharm": {
          "name": "#%%\n"
        },
        "colab": {
          "base_uri": "https://localhost:8080/"
        },
        "id": "N1c8sWtAWQGJ",
        "outputId": "040a28c8-81bc-4171-d102-14b0f590c650"
      },
      "outputs": [
        {
          "output_type": "stream",
          "name": "stdout",
          "text": [
            "Train accuracy of NN 1.0\n",
            "Test accuracy of NN 0.9166666666666666\n"
          ]
        }
      ],
      "source": [
        "ys_train_pred = []\n",
        "for x in xs_train:\n",
        "    y_hat = nn_clf.classify(x) # the neural network classifier nn_clf is used to predict the label y_hat for that example using the classify method\n",
        "    ys_train_pred.append(y_hat)\n",
        "\n",
        "ys_test_pred = []\n",
        "for x in xs_test:\n",
        "    y_hat = nn_clf.classify(x)\n",
        "    ys_test_pred.append(y_hat)\n",
        "\n",
        "print('Train accuracy of NN', accuracy(ys_train, ys_train_pred))\n",
        "print('Test accuracy of NN', accuracy(ys_test, ys_test_pred))"
      ]
    },
    {
      "cell_type": "markdown",
      "metadata": {
        "pycharm": {
          "name": "#%% md\n"
        },
        "id": "fkvDCE71WQGJ"
      },
      "source": [
        "Let's now compare the test result of this classifier to a random classifier. Is this NN classifier any better?\n",
        "Remember that a random classifier would correctly predict the class one third of the times."
      ]
    },
    {
      "cell_type": "code",
      "execution_count": 17,
      "metadata": {
        "pycharm": {
          "name": "#%%\n"
        },
        "colab": {
          "base_uri": "https://localhost:8080/"
        },
        "id": "PI-aUjZ5WQGK",
        "outputId": "a6a47201-2010-43ec-c64b-f46be7948822"
      },
      "outputs": [
        {
          "output_type": "stream",
          "name": "stdout",
          "text": [
            "Test accuracy of a random classifier 0.5\n"
          ]
        }
      ],
      "source": [
        "ys_test_pred_random = np.random.randint(1, 4, len(ys_test))\n",
        "# it generates an array of random integers between 1 and 4 (inclusive) with the same length as ys_test. \n",
        "# This array represents the predicted labels of the random classifier for each example in the test set.\n",
        "\n",
        "print('Test accuracy of a random classifier', accuracy(ys_test, ys_test_pred_random))"
      ]
    },
    {
      "cell_type": "markdown",
      "metadata": {
        "pycharm": {
          "name": "#%% md\n"
        },
        "id": "9oG2YI_qWQGK"
      },
      "source": [
        "Let's have a look at the result of a random classifier by repeating this experiment many times."
      ]
    },
    {
      "cell_type": "code",
      "execution_count": 18,
      "metadata": {
        "pycharm": {
          "name": "#%%\n"
        },
        "colab": {
          "base_uri": "https://localhost:8080/",
          "height": 282
        },
        "id": "Jda5qg-vWQGL",
        "outputId": "8319ad3d-ee1e-4a06-c9ed-0ae38ab778af"
      },
      "outputs": [
        {
          "output_type": "display_data",
          "data": {
            "text/plain": [
              "<Figure size 432x288 with 1 Axes>"
            ],
            "image/png": "[encoded data removed]"
          },
          "metadata": {
            "needs_background": "light"
          }
        },
        {
          "output_type": "stream",
          "name": "stdout",
          "text": [
            "Expected accuracy of a random classifier 0.3332111111111111\n"
          ]
        }
      ],
      "source": [
        "from matplotlib import pyplot as plt\n",
        "\n",
        "accuracies = []\n",
        "for _ in range(10000):\n",
        "    ys_test_pred_random = np.random.randint(1, 4, len(ys_test))\n",
        "    accuracies.append(accuracy(ys_test, ys_test_pred_random))\n",
        "\n",
        "plt.hist(accuracies)\n",
        "plt.show()\n",
        "\n",
        "print('Expected accuracy of a random classifier', np.mean(accuracies))"
      ]
    },
    {
      "cell_type": "markdown",
      "metadata": {
        "pycharm": {
          "name": "#%% md\n"
        },
        "id": "sr-4NH85WQGL"
      },
      "source": [
        "Does this accuracy make sense? Is this accuracy similar to the one you had predicted?"
      ]
    },
    {
      "cell_type": "markdown",
      "metadata": {
        "pycharm": {
          "name": "#%% md\n"
        },
        "id": "Lryg-ECYWQGM"
      },
      "source": [
        "# The k-Nearest Neighbor Algorithm\n",
        "\n",
        "We will now extend the NN algorithm to develop the k-Nearest Neighbor (kNN) algorithm.\n",
        "By extending the NN algorithm we avoid repeating the training code. This is in fact the same.\n",
        "In the classification method, in order to avoid the sorting of\n",
        "all the examples after having measured their score, we will make use of priority queues, which allow us to keep track\n",
        "only of the first $k$-nearest examples, making the code more efficient. You are free to implement the version where\n",
        "first all the examples are scored, then sorted and selected. These two versions, if correctly implemented,\n",
        "should produce to the same result."
      ]
    },
    {
      "cell_type": "code",
      "execution_count": 19,
      "metadata": {
        "pycharm": {
          "name": "#%%\n"
        },
        "id": "tEDu5DzOWQGM"
      },
      "outputs": [],
      "source": [
        "from statistics import mode\n",
        "from heapq import heappush, heappushpop\n",
        "\n",
        "class KNN(NN):\n",
        "\n",
        "    def __init__(self, distance):\n",
        "        super().__init__(distance)\n",
        "\n",
        "    def closest_training_examples(self, x_q, k=1):\n",
        "        k_nearest = []\n",
        "\n",
        "        # initialize an heap with k elements\n",
        "        for x, y  in self.training_examples[:k]:\n",
        "            score = self.distance(x_q, x)\n",
        "            heappush(k_nearest, (-score, (x, y)))\n",
        "\n",
        "        # find the k-nearest example\n",
        "        for x, y in self.training_examples[k:]:\n",
        "            score = self.distance(x_q, x)\n",
        "            heappushpop(k_nearest, (-score, (x, y)))\n",
        "\n",
        "        # we no longer need to keep the score\n",
        "        res = [(x, y) for _, (x, y) in k_nearest]\n",
        "        return res\n",
        "\n",
        "    def classify(self, x_q, k = 1):\n",
        "        # find the k closest\n",
        "        k_nearest_xs, k_nearest_ys = zip(*self.closest_training_examples(x_q, k))\n",
        "        # return the mode\n",
        "        return mode(k_nearest_ys)"
      ]
    },
    {
      "cell_type": "markdown",
      "metadata": {
        "pycharm": {
          "name": "#%% md\n"
        },
        "id": "rxH0v_MOWQGN"
      },
      "source": [
        "We now train and test this algorithm in the same way we did for the NN algorithm."
      ]
    },
    {
      "cell_type": "code",
      "execution_count": 20,
      "metadata": {
        "pycharm": {
          "name": "#%%\n"
        },
        "colab": {
          "base_uri": "https://localhost:8080/"
        },
        "id": "NnzZDofgWQGN",
        "outputId": "714c1f84-f46c-4557-a18d-2720a52b89cf"
      },
      "outputs": [
        {
          "output_type": "stream",
          "name": "stdout",
          "text": [
            "Train accuracy of kNN 1.0\n",
            "Test accuracy of kNN 0.9166666666666666\n"
          ]
        }
      ],
      "source": [
        "knn_clf = KNN(euclidean_distance)\n",
        "\n",
        "knn_clf.add_examples(xs_train, ys_train)\n",
        "\n",
        "ys_train_pred = []\n",
        "for x in xs_train:\n",
        "    y_hat = knn_clf.classify(x)\n",
        "    ys_train_pred.append(y_hat)\n",
        "\n",
        "ys_test_pred = []\n",
        "for x in xs_test:\n",
        "    y_hat = knn_clf.classify(x)\n",
        "    ys_test_pred.append(y_hat)\n",
        "\n",
        "print('Train accuracy of kNN', accuracy(ys_train, ys_train_pred))\n",
        "print('Test accuracy of kNN', accuracy(ys_test, ys_test_pred))"
      ]
    },
    {
      "cell_type": "markdown",
      "metadata": {
        "pycharm": {
          "name": "#%% md\n"
        },
        "id": "NGld1JoTWQGR"
      },
      "source": [
        "Nothing has changed with respect to the NN algorithm because we have implicitly used $k=1$. Let's now try $k=5$."
      ]
    },
    {
      "cell_type": "code",
      "execution_count": 22,
      "metadata": {
        "pycharm": {
          "name": "#%%\n"
        },
        "colab": {
          "base_uri": "https://localhost:8080/"
        },
        "id": "Y1pXFSKJWQGR",
        "outputId": "85ac4556-6cbb-423e-b9d2-03cd9f847343"
      },
      "outputs": [
        {
          "output_type": "stream",
          "name": "stdout",
          "text": [
            "Train accuracy of kNN 0.9859154929577465\n",
            "Test accuracy of kNN 0.9166666666666666\n"
          ]
        }
      ],
      "source": [
        "ys_train_pred = []\n",
        "for x in xs_train:\n",
        "    y_hat = knn_clf.classify(x, 5)\n",
        "    ys_train_pred.append(y_hat)\n",
        "\n",
        "ys_test_pred = []\n",
        "for x in xs_test:\n",
        "    y_hat = knn_clf.classify(x, 5)\n",
        "    ys_test_pred.append(y_hat)\n",
        "\n",
        "\n",
        "print('Train accuracy of kNN', accuracy(ys_train, ys_train_pred))\n",
        "print('Test accuracy of kNN', accuracy(ys_test, ys_test_pred))"
      ]
    },
    {
      "cell_type": "markdown",
      "metadata": {
        "pycharm": {
          "name": "#%% md\n"
        },
        "id": "d901GoixWQGS"
      },
      "source": [
        "It seems that considering more points did not help. Note that this time the training accuracy has changed. Can you\n",
        "explain why?"
      ]
    },
    {
      "cell_type": "markdown",
      "metadata": {
        "pycharm": {
          "name": "#%% md\n"
        },
        "id": "4fF1kyeTWQGS"
      },
      "source": [
        "## kNN in Scikit-Learn\n",
        "\n",
        "We will now learn how to use the kNN implementation of scikit-learn."
      ]
    },
    {
      "cell_type": "code",
      "execution_count": 23,
      "metadata": {
        "pycharm": {
          "name": "#%%\n"
        },
        "id": "E4l5utZYWQGT"
      },
      "outputs": [],
      "source": [
        "from sklearn.neighbors import KNeighborsClassifier\n",
        "\n",
        "knn_clf = KNeighborsClassifier(n_neighbors=5, metric='euclidean')"
      ]
    },
    {
      "cell_type": "markdown",
      "metadata": {
        "pycharm": {
          "name": "#%% md\n"
        },
        "id": "leVCHaeLWQGT"
      },
      "source": [
        "To train the classifier."
      ]
    },
    {
      "cell_type": "code",
      "execution_count": 24,
      "metadata": {
        "pycharm": {
          "name": "#%%\n"
        },
        "colab": {
          "base_uri": "https://localhost:8080/",
          "height": 75
        },
        "id": "w9zexuHMWQGT",
        "outputId": "5231b0e2-eaff-431d-dbde-9f4d6da765d9"
      },
      "outputs": [
        {
          "output_type": "execute_result",
          "data": {
            "text/plain": [
              "KNeighborsClassifier(metric='euclidean')"
            ],
            "text/html": [
              "<style>#sk-container-id-1 {color: black;background-color: white;}#sk-container-id-1 pre{padding: 0;}#sk-container-id-1 div.sk-toggleable {background-color: white;}#sk-container-id-1 label.sk-toggleable__label {cursor: pointer;display: block;width: 100%;margin-bottom: 0;padding: 0.3em;box-sizing: border-box;text-align: center;}#sk-container-id-1 label.sk-toggleable__label-arrow:before {content: \"▸\";float: left;margin-right: 0.25em;color: #696969;}#sk-container-id-1 label.sk-toggleable__label-arrow:hover:before {color: black;}#sk-container-id-1 div.sk-estimator:hover label.sk-toggleable__label-arrow:before {color: black;}#sk-container-id-1 div.sk-toggleable__content {max-height: 0;max-width: 0;overflow: hidden;text-align: left;background-color: #f0f8ff;}#sk-container-id-1 div.sk-toggleable__content pre {margin: 0.2em;color: black;border-radius: 0.25em;background-color: #f0f8ff;}#sk-container-id-1 input.sk-toggleable__control:checked~div.sk-toggleable__content {max-height: 200px;max-width: 100%;overflow: auto;}#sk-container-id-1 input.sk-toggleable__control:checked~label.sk-toggleable__label-arrow:before {content: \"▾\";}#sk-container-id-1 div.sk-estimator input.sk-toggleable__control:checked~label.sk-toggleable__label {background-color: #d4ebff;}#sk-container-id-1 div.sk-label input.sk-toggleable__control:checked~label.sk-toggleable__label {background-color: #d4ebff;}#sk-container-id-1 input.sk-hidden--visually {border: 0;clip: rect(1px 1px 1px 1px);clip: rect(1px, 1px, 1px, 1px);height: 1px;margin: -1px;overflow: hidden;padding: 0;position: absolute;width: 1px;}#sk-container-id-1 div.sk-estimator {font-family: monospace;background-color: #f0f8ff;border: 1px dotted black;border-radius: 0.25em;box-sizing: border-box;margin-bottom: 0.5em;}#sk-container-id-1 div.sk-estimator:hover {background-color: #d4ebff;}#sk-container-id-1 div.sk-parallel-item::after {content: \"\";width: 100%;border-bottom: 1px solid gray;flex-grow: 1;}#sk-container-id-1 div.sk-label:hover label.sk-toggleable__label {background-color: #d4ebff;}#sk-container-id-1 div.sk-serial::before {content: \"\";position: absolute;border-left: 1px solid gray;box-sizing: border-box;top: 0;bottom: 0;left: 50%;z-index: 0;}#sk-container-id-1 div.sk-serial {display: flex;flex-direction: column;align-items: center;background-color: white;padding-right: 0.2em;padding-left: 0.2em;position: relative;}#sk-container-id-1 div.sk-item {position: relative;z-index: 1;}#sk-container-id-1 div.sk-parallel {display: flex;align-items: stretch;justify-content: center;background-color: white;position: relative;}#sk-container-id-1 div.sk-item::before, #sk-container-id-1 div.sk-parallel-item::before {content: \"\";position: absolute;border-left: 1px solid gray;box-sizing: border-box;top: 0;bottom: 0;left: 50%;z-index: -1;}#sk-container-id-1 div.sk-parallel-item {display: flex;flex-direction: column;z-index: 1;position: relative;background-color: white;}#sk-container-id-1 div.sk-parallel-item:first-child::after {align-self: flex-end;width: 50%;}#sk-container-id-1 div.sk-parallel-item:last-child::after {align-self: flex-start;width: 50%;}#sk-container-id-1 div.sk-parallel-item:only-child::after {width: 0;}#sk-container-id-1 div.sk-dashed-wrapped {border: 1px dashed gray;margin: 0 0.4em 0.5em 0.4em;box-sizing: border-box;padding-bottom: 0.4em;background-color: white;}#sk-container-id-1 div.sk-label label {font-family: monospace;font-weight: bold;display: inline-block;line-height: 1.2em;}#sk-container-id-1 div.sk-label-container {text-align: center;}#sk-container-id-1 div.sk-container {/* jupyter's `normalize.less` sets `[hidden] { display: none; }` but bootstrap.min.css set `[hidden] { display: none !important; }` so we also need the `!important` here to be able to override the default hidden behavior on the sphinx rendered scikit-learn.org. See: https://github.com/scikit-learn/scikit-learn/issues/21755 */display: inline-block !important;position: relative;}#sk-container-id-1 div.sk-text-repr-fallback {display: none;}</style><div id=\"sk-container-id-1\" class=\"sk-top-container\"><div class=\"sk-text-repr-fallback\"><pre>KNeighborsClassifier(metric=&#x27;euclidean&#x27;)</pre><b>In a Jupyter environment, please rerun this cell to show the HTML representation or trust the notebook. <br />On GitHub, the HTML representation is unable to render, please try loading this page with nbviewer.org.</b></div><div class=\"sk-container\" hidden><div class=\"sk-item\"><div class=\"sk-estimator sk-toggleable\"><input class=\"sk-toggleable__control sk-hidden--visually\" id=\"sk-estimator-id-1\" type=\"checkbox\" checked><label for=\"sk-estimator-id-1\" class=\"sk-toggleable__label sk-toggleable__label-arrow\">KNeighborsClassifier</label><div class=\"sk-toggleable__content\"><pre>KNeighborsClassifier(metric=&#x27;euclidean&#x27;)</pre></div></div></div></div></div>"
            ]
          },
          "metadata": {},
          "execution_count": 24
        }
      ],
      "source": [
        "knn_clf.fit(xs_train, ys_train)"
      ]
    },
    {
      "cell_type": "markdown",
      "metadata": {
        "pycharm": {
          "name": "#%% md\n"
        },
        "id": "Qw3WS49tWQGU"
      },
      "source": [
        "We now evaluate the result of this classifier. Here, we should not see any\n",
        "difference with respect to the results obtained above with our implementation of the kNN algorithm."
      ]
    },
    {
      "cell_type": "code",
      "execution_count": 25,
      "metadata": {
        "pycharm": {
          "name": "#%%\n"
        },
        "colab": {
          "base_uri": "https://localhost:8080/"
        },
        "id": "L0kL8x0KWQGU",
        "outputId": "9be454f7-5182-48ae-a73e-5b31d2f3605b"
      },
      "outputs": [
        {
          "output_type": "stream",
          "name": "stdout",
          "text": [
            "Test accuracy of kNN 0.9166666666666666\n"
          ]
        }
      ],
      "source": [
        "from sklearn.metrics import accuracy_score\n",
        "\n",
        "ys_test_pred = knn_clf.predict(xs_test)\n",
        "\n",
        "print('Test accuracy of kNN', accuracy_score(ys_test, ys_test_pred))"
      ]
    },
    {
      "cell_type": "markdown",
      "metadata": {
        "pycharm": {
          "name": "#%% md\n"
        },
        "id": "ruBd7V2cWQGV"
      },
      "source": [
        "Let's now try the cosine distance."
      ]
    },
    {
      "cell_type": "code",
      "execution_count": 26,
      "metadata": {
        "pycharm": {
          "name": "#%%\n"
        },
        "colab": {
          "base_uri": "https://localhost:8080/"
        },
        "id": "J5_f4BktWQGV",
        "outputId": "ce294a81-5cae-4063-e700-4e4043d1295c"
      },
      "outputs": [
        {
          "output_type": "stream",
          "name": "stdout",
          "text": [
            "Test accuracy of kNN 0.9444444444444444\n"
          ]
        }
      ],
      "source": [
        "knn_clf = KNeighborsClassifier(n_neighbors=1, metric='cosine')\n",
        "\n",
        "knn_clf.fit(xs_train, ys_train)\n",
        "\n",
        "ys_test_pred = knn_clf.predict(xs_test)\n",
        "\n",
        "print('Test accuracy of kNN', accuracy_score(ys_test, ys_test_pred))"
      ]
    },
    {
      "cell_type": "markdown",
      "metadata": {
        "pycharm": {
          "name": "#%% md\n"
        },
        "id": "lM9hO2ohWQGW"
      },
      "source": [
        "Try other $n$ values. Can you find a better one? The danger of doing this hyper-parameter exploration using the test set is\n",
        "that we may overfit these hyper-parameters on the test set.\n",
        "To avoid this, it is better to find the best hyper-parameter values via a validation strategy."
      ]
    },
    {
      "cell_type": "markdown",
      "metadata": {
        "pycharm": {
          "name": "#%% md\n"
        },
        "id": "I0OwKDI5WQGW"
      },
      "source": [
        "To find these hyper-parameter values we can exploit the grid search of scikit-learn. This will perform a k-fold\n",
        "cross-validation on the training set."
      ]
    },
    {
      "cell_type": "code",
      "execution_count": null,
      "metadata": {
        "pycharm": {
          "name": "#%%\n"
        },
        "id": "aLBlggs7WQGW",
        "outputId": "a33f82a5-9e71-49e7-c891-c80b004632f9"
      },
      "outputs": [
        {
          "name": "stdout",
          "output_type": "stream",
          "text": [
            "Fitting 5 folds for each of 60 candidates, totalling 300 fits\n",
            "[CV] END ...metric=euclidean, n_neighbors=1, weights=uniform; total time=   0.0s\n",
            "[CV] END ...metric=euclidean, n_neighbors=1, weights=uniform; total time=   0.0s\n",
            "[CV] END ...metric=euclidean, n_neighbors=1, weights=uniform; total time=   0.0s\n",
            "[CV] END ...metric=euclidean, n_neighbors=1, weights=uniform; total time=   0.0s\n",
            "[CV] END ...metric=euclidean, n_neighbors=1, weights=uniform; total time=   0.0s\n",
            "[CV] END ..metric=euclidean, n_neighbors=1, weights=distance; total time=   0.0s\n",
            "[CV] END ..metric=euclidean, n_neighbors=1, weights=distance; total time=   0.0s\n",
            "[CV] END ..metric=euclidean, n_neighbors=1, weights=distance; total time=   0.0s\n",
            "[CV] END ..metric=euclidean, n_neighbors=1, weights=distance; total time=   0.0s\n",
            "[CV] END ..metric=euclidean, n_neighbors=1, weights=distance; total time=   0.0s\n",
            "[CV] END ...metric=euclidean, n_neighbors=2, weights=uniform; total time=   0.0s\n",
            "[CV] END ...metric=euclidean, n_neighbors=2, weights=uniform; total time=   0.0s\n",
            "[CV] END ...metric=euclidean, n_neighbors=2, weights=uniform; total time=   0.0s\n",
            "[CV] END ...metric=euclidean, n_neighbors=2, weights=uniform; total time=   0.0s\n",
            "[CV] END ...metric=euclidean, n_neighbors=2, weights=uniform; total time=   0.0s\n",
            "[CV] END ..metric=euclidean, n_neighbors=2, weights=distance; total time=   0.0s\n",
            "[CV] END ..metric=euclidean, n_neighbors=2, weights=distance; total time=   0.0s\n",
            "[CV] END ..metric=euclidean, n_neighbors=2, weights=distance; total time=   0.0s\n",
            "[CV] END ..metric=euclidean, n_neighbors=2, weights=distance; total time=   0.0s\n",
            "[CV] END ..metric=euclidean, n_neighbors=2, weights=distance; total time=   0.0s\n",
            "[CV] END ...metric=euclidean, n_neighbors=3, weights=uniform; total time=   0.0s\n",
            "[CV] END ...metric=euclidean, n_neighbors=3, weights=uniform; total time=   0.0s\n",
            "[CV] END ...metric=euclidean, n_neighbors=3, weights=uniform; total time=   0.0s\n",
            "[CV] END ...metric=euclidean, n_neighbors=3, weights=uniform; total time=   0.0s\n",
            "[CV] END ...metric=euclidean, n_neighbors=3, weights=uniform; total time=   0.0s\n",
            "[CV] END ..metric=euclidean, n_neighbors=3, weights=distance; total time=   0.0s\n",
            "[CV] END ..metric=euclidean, n_neighbors=3, weights=distance; total time=   0.0s\n",
            "[CV] END ..metric=euclidean, n_neighbors=3, weights=distance; total time=   0.0s\n",
            "[CV] END ..metric=euclidean, n_neighbors=3, weights=distance; total time=   0.0s\n",
            "[CV] END ..metric=euclidean, n_neighbors=3, weights=distance; total time=   0.0s\n",
            "[CV] END ...metric=euclidean, n_neighbors=4, weights=uniform; total time=   0.0s\n",
            "[CV] END ...metric=euclidean, n_neighbors=4, weights=uniform; total time=   0.0s\n",
            "[CV] END ...metric=euclidean, n_neighbors=4, weights=uniform; total time=   0.0s\n",
            "[CV] END ...metric=euclidean, n_neighbors=4, weights=uniform; total time=   0.0s\n",
            "[CV] END ...metric=euclidean, n_neighbors=4, weights=uniform; total time=   0.0s\n",
            "[CV] END ..metric=euclidean, n_neighbors=4, weights=distance; total time=   0.0s\n",
            "[CV] END ..metric=euclidean, n_neighbors=4, weights=distance; total time=   0.0s\n",
            "[CV] END ..metric=euclidean, n_neighbors=4, weights=distance; total time=   0.0s\n",
            "[CV] END ..metric=euclidean, n_neighbors=4, weights=distance; total time=   0.0s\n",
            "[CV] END ..metric=euclidean, n_neighbors=4, weights=distance; total time=   0.0s\n",
            "[CV] END ...metric=euclidean, n_neighbors=5, weights=uniform; total time=   0.0s\n",
            "[CV] END ...metric=euclidean, n_neighbors=5, weights=uniform; total time=   0.0s\n",
            "[CV] END ...metric=euclidean, n_neighbors=5, weights=uniform; total time=   0.0s\n",
            "[CV] END ...metric=euclidean, n_neighbors=5, weights=uniform; total time=   0.0s\n",
            "[CV] END ...metric=euclidean, n_neighbors=5, weights=uniform; total time=   0.0s\n",
            "[CV] END ..metric=euclidean, n_neighbors=5, weights=distance; total time=   0.0s\n",
            "[CV] END ..metric=euclidean, n_neighbors=5, weights=distance; total time=   0.0s\n",
            "[CV] END ..metric=euclidean, n_neighbors=5, weights=distance; total time=   0.0s\n",
            "[CV] END ..metric=euclidean, n_neighbors=5, weights=distance; total time=   0.0s\n",
            "[CV] END ..metric=euclidean, n_neighbors=5, weights=distance; total time=   0.0s\n",
            "[CV] END ...metric=euclidean, n_neighbors=6, weights=uniform; total time=   0.0s\n",
            "[CV] END ...metric=euclidean, n_neighbors=6, weights=uniform; total time=   0.0s\n",
            "[CV] END ...metric=euclidean, n_neighbors=6, weights=uniform; total time=   0.0s\n",
            "[CV] END ...metric=euclidean, n_neighbors=6, weights=uniform; total time=   0.0s\n",
            "[CV] END ...metric=euclidean, n_neighbors=6, weights=uniform; total time=   0.0s\n",
            "[CV] END ..metric=euclidean, n_neighbors=6, weights=distance; total time=   0.0s\n",
            "[CV] END ..metric=euclidean, n_neighbors=6, weights=distance; total time=   0.0s\n",
            "[CV] END ..metric=euclidean, n_neighbors=6, weights=distance; total time=   0.0s\n",
            "[CV] END ..metric=euclidean, n_neighbors=6, weights=distance; total time=   0.0s\n",
            "[CV] END ..metric=euclidean, n_neighbors=6, weights=distance; total time=   0.0s\n",
            "[CV] END ...metric=euclidean, n_neighbors=7, weights=uniform; total time=   0.0s\n",
            "[CV] END ...metric=euclidean, n_neighbors=7, weights=uniform; total time=   0.0s\n",
            "[CV] END ...metric=euclidean, n_neighbors=7, weights=uniform; total time=   0.0s\n",
            "[CV] END ...metric=euclidean, n_neighbors=7, weights=uniform; total time=   0.0s\n",
            "[CV] END ...metric=euclidean, n_neighbors=7, weights=uniform; total time=   0.0s\n",
            "[CV] END ..metric=euclidean, n_neighbors=7, weights=distance; total time=   0.0s\n",
            "[CV] END ..metric=euclidean, n_neighbors=7, weights=distance; total time=   0.0s\n",
            "[CV] END ..metric=euclidean, n_neighbors=7, weights=distance; total time=   0.0s\n",
            "[CV] END ..metric=euclidean, n_neighbors=7, weights=distance; total time=   0.0s\n",
            "[CV] END ..metric=euclidean, n_neighbors=7, weights=distance; total time=   0.0s\n",
            "[CV] END ...metric=euclidean, n_neighbors=8, weights=uniform; total time=   0.0s\n",
            "[CV] END ...metric=euclidean, n_neighbors=8, weights=uniform; total time=   0.0s\n",
            "[CV] END ...metric=euclidean, n_neighbors=8, weights=uniform; total time=   0.0s\n",
            "[CV] END ...metric=euclidean, n_neighbors=8, weights=uniform; total time=   0.0s\n",
            "[CV] END ...metric=euclidean, n_neighbors=8, weights=uniform; total time=   0.0s\n",
            "[CV] END ..metric=euclidean, n_neighbors=8, weights=distance; total time=   0.0s\n",
            "[CV] END ..metric=euclidean, n_neighbors=8, weights=distance; total time=   0.0s\n",
            "[CV] END ..metric=euclidean, n_neighbors=8, weights=distance; total time=   0.0s\n",
            "[CV] END ..metric=euclidean, n_neighbors=8, weights=distance; total time=   0.0s\n",
            "[CV] END ..metric=euclidean, n_neighbors=8, weights=distance; total time=   0.0s\n",
            "[CV] END ...metric=euclidean, n_neighbors=9, weights=uniform; total time=   0.0s\n",
            "[CV] END ...metric=euclidean, n_neighbors=9, weights=uniform; total time=   0.0s\n",
            "[CV] END ...metric=euclidean, n_neighbors=9, weights=uniform; total time=   0.0s\n",
            "[CV] END ...metric=euclidean, n_neighbors=9, weights=uniform; total time=   0.0s\n",
            "[CV] END ...metric=euclidean, n_neighbors=9, weights=uniform; total time=   0.0s\n",
            "[CV] END ..metric=euclidean, n_neighbors=9, weights=distance; total time=   0.0s\n",
            "[CV] END ..metric=euclidean, n_neighbors=9, weights=distance; total time=   0.0s\n",
            "[CV] END ..metric=euclidean, n_neighbors=9, weights=distance; total time=   0.0s\n",
            "[CV] END ..metric=euclidean, n_neighbors=9, weights=distance; total time=   0.0s\n",
            "[CV] END ..metric=euclidean, n_neighbors=9, weights=distance; total time=   0.0s\n",
            "[CV] END ..metric=euclidean, n_neighbors=10, weights=uniform; total time=   0.0s\n",
            "[CV] END ..metric=euclidean, n_neighbors=10, weights=uniform; total time=   0.0s\n",
            "[CV] END ..metric=euclidean, n_neighbors=10, weights=uniform; total time=   0.0s\n",
            "[CV] END ..metric=euclidean, n_neighbors=10, weights=uniform; total time=   0.0s\n",
            "[CV] END ..metric=euclidean, n_neighbors=10, weights=uniform; total time=   0.0s\n",
            "[CV] END .metric=euclidean, n_neighbors=10, weights=distance; total time=   0.0s\n",
            "[CV] END .metric=euclidean, n_neighbors=10, weights=distance; total time=   0.0s\n",
            "[CV] END .metric=euclidean, n_neighbors=10, weights=distance; total time=   0.0s\n",
            "[CV] END .metric=euclidean, n_neighbors=10, weights=distance; total time=   0.0s\n",
            "[CV] END .metric=euclidean, n_neighbors=10, weights=distance; total time=   0.0s\n",
            "[CV] END ...metric=manhattan, n_neighbors=1, weights=uniform; total time=   0.0s\n",
            "[CV] END ...metric=manhattan, n_neighbors=1, weights=uniform; total time=   0.0s\n",
            "[CV] END ...metric=manhattan, n_neighbors=1, weights=uniform; total time=   0.0s\n",
            "[CV] END ...metric=manhattan, n_neighbors=1, weights=uniform; total time=   0.0s\n",
            "[CV] END ...metric=manhattan, n_neighbors=1, weights=uniform; total time=   0.0s\n"
          ]
        },
        {
          "name": "stdout",
          "output_type": "stream",
          "text": [
            "[CV] END ..metric=manhattan, n_neighbors=1, weights=distance; total time=   0.0s\n",
            "[CV] END ..metric=manhattan, n_neighbors=1, weights=distance; total time=   0.0s\n",
            "[CV] END ..metric=manhattan, n_neighbors=1, weights=distance; total time=   0.0s\n",
            "[CV] END ..metric=manhattan, n_neighbors=1, weights=distance; total time=   0.0s\n",
            "[CV] END ..metric=manhattan, n_neighbors=1, weights=distance; total time=   0.0s\n",
            "[CV] END ...metric=manhattan, n_neighbors=2, weights=uniform; total time=   0.0s\n",
            "[CV] END ...metric=manhattan, n_neighbors=2, weights=uniform; total time=   0.0s\n",
            "[CV] END ...metric=manhattan, n_neighbors=2, weights=uniform; total time=   0.0s\n",
            "[CV] END ...metric=manhattan, n_neighbors=2, weights=uniform; total time=   0.0s\n",
            "[CV] END ...metric=manhattan, n_neighbors=2, weights=uniform; total time=   0.0s\n",
            "[CV] END ..metric=manhattan, n_neighbors=2, weights=distance; total time=   0.0s\n",
            "[CV] END ..metric=manhattan, n_neighbors=2, weights=distance; total time=   0.0s\n",
            "[CV] END ..metric=manhattan, n_neighbors=2, weights=distance; total time=   0.0s\n",
            "[CV] END ..metric=manhattan, n_neighbors=2, weights=distance; total time=   0.0s\n",
            "[CV] END ..metric=manhattan, n_neighbors=2, weights=distance; total time=   0.0s\n",
            "[CV] END ...metric=manhattan, n_neighbors=3, weights=uniform; total time=   0.0s\n",
            "[CV] END ...metric=manhattan, n_neighbors=3, weights=uniform; total time=   0.0s\n",
            "[CV] END ...metric=manhattan, n_neighbors=3, weights=uniform; total time=   0.0s\n",
            "[CV] END ...metric=manhattan, n_neighbors=3, weights=uniform; total time=   0.0s\n",
            "[CV] END ...metric=manhattan, n_neighbors=3, weights=uniform; total time=   0.0s\n",
            "[CV] END ..metric=manhattan, n_neighbors=3, weights=distance; total time=   0.0s\n",
            "[CV] END ..metric=manhattan, n_neighbors=3, weights=distance; total time=   0.0s\n",
            "[CV] END ..metric=manhattan, n_neighbors=3, weights=distance; total time=   0.0s\n",
            "[CV] END ..metric=manhattan, n_neighbors=3, weights=distance; total time=   0.0s\n",
            "[CV] END ..metric=manhattan, n_neighbors=3, weights=distance; total time=   0.0s\n",
            "[CV] END ...metric=manhattan, n_neighbors=4, weights=uniform; total time=   0.0s\n",
            "[CV] END ...metric=manhattan, n_neighbors=4, weights=uniform; total time=   0.0s\n",
            "[CV] END ...metric=manhattan, n_neighbors=4, weights=uniform; total time=   0.0s\n",
            "[CV] END ...metric=manhattan, n_neighbors=4, weights=uniform; total time=   0.0s\n",
            "[CV] END ...metric=manhattan, n_neighbors=4, weights=uniform; total time=   0.0s\n",
            "[CV] END ..metric=manhattan, n_neighbors=4, weights=distance; total time=   0.0s\n",
            "[CV] END ..metric=manhattan, n_neighbors=4, weights=distance; total time=   0.0s\n",
            "[CV] END ..metric=manhattan, n_neighbors=4, weights=distance; total time=   0.0s\n",
            "[CV] END ..metric=manhattan, n_neighbors=4, weights=distance; total time=   0.0s\n",
            "[CV] END ..metric=manhattan, n_neighbors=4, weights=distance; total time=   0.0s\n",
            "[CV] END ...metric=manhattan, n_neighbors=5, weights=uniform; total time=   0.0s\n",
            "[CV] END ...metric=manhattan, n_neighbors=5, weights=uniform; total time=   0.0s\n",
            "[CV] END ...metric=manhattan, n_neighbors=5, weights=uniform; total time=   0.0s\n",
            "[CV] END ...metric=manhattan, n_neighbors=5, weights=uniform; total time=   0.0s\n",
            "[CV] END ...metric=manhattan, n_neighbors=5, weights=uniform; total time=   0.0s\n",
            "[CV] END ..metric=manhattan, n_neighbors=5, weights=distance; total time=   0.0s\n",
            "[CV] END ..metric=manhattan, n_neighbors=5, weights=distance; total time=   0.0s\n",
            "[CV] END ..metric=manhattan, n_neighbors=5, weights=distance; total time=   0.0s\n",
            "[CV] END ..metric=manhattan, n_neighbors=5, weights=distance; total time=   0.0s\n",
            "[CV] END ..metric=manhattan, n_neighbors=5, weights=distance; total time=   0.0s\n",
            "[CV] END ...metric=manhattan, n_neighbors=6, weights=uniform; total time=   0.0s\n",
            "[CV] END ...metric=manhattan, n_neighbors=6, weights=uniform; total time=   0.0s\n",
            "[CV] END ...metric=manhattan, n_neighbors=6, weights=uniform; total time=   0.0s\n",
            "[CV] END ...metric=manhattan, n_neighbors=6, weights=uniform; total time=   0.0s\n",
            "[CV] END ...metric=manhattan, n_neighbors=6, weights=uniform; total time=   0.0s\n",
            "[CV] END ..metric=manhattan, n_neighbors=6, weights=distance; total time=   0.0s\n",
            "[CV] END ..metric=manhattan, n_neighbors=6, weights=distance; total time=   0.0s\n",
            "[CV] END ..metric=manhattan, n_neighbors=6, weights=distance; total time=   0.0s\n",
            "[CV] END ..metric=manhattan, n_neighbors=6, weights=distance; total time=   0.0s\n",
            "[CV] END ..metric=manhattan, n_neighbors=6, weights=distance; total time=   0.0s\n",
            "[CV] END ...metric=manhattan, n_neighbors=7, weights=uniform; total time=   0.0s\n",
            "[CV] END ...metric=manhattan, n_neighbors=7, weights=uniform; total time=   0.0s\n",
            "[CV] END ...metric=manhattan, n_neighbors=7, weights=uniform; total time=   0.0s\n",
            "[CV] END ...metric=manhattan, n_neighbors=7, weights=uniform; total time=   0.0s\n",
            "[CV] END ...metric=manhattan, n_neighbors=7, weights=uniform; total time=   0.0s\n",
            "[CV] END ..metric=manhattan, n_neighbors=7, weights=distance; total time=   0.0s\n",
            "[CV] END ..metric=manhattan, n_neighbors=7, weights=distance; total time=   0.0s\n",
            "[CV] END ..metric=manhattan, n_neighbors=7, weights=distance; total time=   0.0s\n",
            "[CV] END ..metric=manhattan, n_neighbors=7, weights=distance; total time=   0.0s\n",
            "[CV] END ..metric=manhattan, n_neighbors=7, weights=distance; total time=   0.0s\n",
            "[CV] END ...metric=manhattan, n_neighbors=8, weights=uniform; total time=   0.0s\n",
            "[CV] END ...metric=manhattan, n_neighbors=8, weights=uniform; total time=   0.0s\n",
            "[CV] END ...metric=manhattan, n_neighbors=8, weights=uniform; total time=   0.0s\n",
            "[CV] END ...metric=manhattan, n_neighbors=8, weights=uniform; total time=   0.0s\n",
            "[CV] END ...metric=manhattan, n_neighbors=8, weights=uniform; total time=   0.0s\n",
            "[CV] END ..metric=manhattan, n_neighbors=8, weights=distance; total time=   0.0s\n",
            "[CV] END ..metric=manhattan, n_neighbors=8, weights=distance; total time=   0.0s\n",
            "[CV] END ..metric=manhattan, n_neighbors=8, weights=distance; total time=   0.0s\n",
            "[CV] END ..metric=manhattan, n_neighbors=8, weights=distance; total time=   0.0s\n",
            "[CV] END ..metric=manhattan, n_neighbors=8, weights=distance; total time=   0.0s\n",
            "[CV] END ...metric=manhattan, n_neighbors=9, weights=uniform; total time=   0.0s\n",
            "[CV] END ...metric=manhattan, n_neighbors=9, weights=uniform; total time=   0.0s\n",
            "[CV] END ...metric=manhattan, n_neighbors=9, weights=uniform; total time=   0.0s\n",
            "[CV] END ...metric=manhattan, n_neighbors=9, weights=uniform; total time=   0.0s\n",
            "[CV] END ...metric=manhattan, n_neighbors=9, weights=uniform; total time=   0.0s\n",
            "[CV] END ..metric=manhattan, n_neighbors=9, weights=distance; total time=   0.0s\n",
            "[CV] END ..metric=manhattan, n_neighbors=9, weights=distance; total time=   0.0s\n",
            "[CV] END ..metric=manhattan, n_neighbors=9, weights=distance; total time=   0.0s\n",
            "[CV] END ..metric=manhattan, n_neighbors=9, weights=distance; total time=   0.0s\n",
            "[CV] END ..metric=manhattan, n_neighbors=9, weights=distance; total time=   0.0s\n",
            "[CV] END ..metric=manhattan, n_neighbors=10, weights=uniform; total time=   0.0s\n",
            "[CV] END ..metric=manhattan, n_neighbors=10, weights=uniform; total time=   0.0s\n",
            "[CV] END ..metric=manhattan, n_neighbors=10, weights=uniform; total time=   0.0s\n",
            "[CV] END ..metric=manhattan, n_neighbors=10, weights=uniform; total time=   0.0s\n",
            "[CV] END ..metric=manhattan, n_neighbors=10, weights=uniform; total time=   0.0s\n",
            "[CV] END .metric=manhattan, n_neighbors=10, weights=distance; total time=   0.0s\n",
            "[CV] END .metric=manhattan, n_neighbors=10, weights=distance; total time=   0.0s\n",
            "[CV] END .metric=manhattan, n_neighbors=10, weights=distance; total time=   0.0s\n",
            "[CV] END .metric=manhattan, n_neighbors=10, weights=distance; total time=   0.0s\n",
            "[CV] END .metric=manhattan, n_neighbors=10, weights=distance; total time=   0.0s\n",
            "[CV] END ......metric=cosine, n_neighbors=1, weights=uniform; total time=   0.0s\n",
            "[CV] END ......metric=cosine, n_neighbors=1, weights=uniform; total time=   0.0s\n",
            "[CV] END ......metric=cosine, n_neighbors=1, weights=uniform; total time=   0.0s\n",
            "[CV] END ......metric=cosine, n_neighbors=1, weights=uniform; total time=   0.0s\n",
            "[CV] END ......metric=cosine, n_neighbors=1, weights=uniform; total time=   0.0s\n",
            "[CV] END .....metric=cosine, n_neighbors=1, weights=distance; total time=   0.0s\n",
            "[CV] END .....metric=cosine, n_neighbors=1, weights=distance; total time=   0.0s\n",
            "[CV] END .....metric=cosine, n_neighbors=1, weights=distance; total time=   0.0s\n",
            "[CV] END .....metric=cosine, n_neighbors=1, weights=distance; total time=   0.0s\n",
            "[CV] END .....metric=cosine, n_neighbors=1, weights=distance; total time=   0.0s\n",
            "[CV] END ......metric=cosine, n_neighbors=2, weights=uniform; total time=   0.0s\n",
            "[CV] END ......metric=cosine, n_neighbors=2, weights=uniform; total time=   0.0s\n",
            "[CV] END ......metric=cosine, n_neighbors=2, weights=uniform; total time=   0.0s\n",
            "[CV] END ......metric=cosine, n_neighbors=2, weights=uniform; total time=   0.0s\n",
            "[CV] END ......metric=cosine, n_neighbors=2, weights=uniform; total time=   0.0s\n",
            "[CV] END .....metric=cosine, n_neighbors=2, weights=distance; total time=   0.0s\n",
            "[CV] END .....metric=cosine, n_neighbors=2, weights=distance; total time=   0.0s\n",
            "[CV] END .....metric=cosine, n_neighbors=2, weights=distance; total time=   0.0s\n",
            "[CV] END .....metric=cosine, n_neighbors=2, weights=distance; total time=   0.0s\n",
            "[CV] END .....metric=cosine, n_neighbors=2, weights=distance; total time=   0.0s\n",
            "[CV] END ......metric=cosine, n_neighbors=3, weights=uniform; total time=   0.0s\n",
            "[CV] END ......metric=cosine, n_neighbors=3, weights=uniform; total time=   0.0s\n",
            "[CV] END ......metric=cosine, n_neighbors=3, weights=uniform; total time=   0.0s\n",
            "[CV] END ......metric=cosine, n_neighbors=3, weights=uniform; total time=   0.0s\n",
            "[CV] END ......metric=cosine, n_neighbors=3, weights=uniform; total time=   0.0s\n",
            "[CV] END .....metric=cosine, n_neighbors=3, weights=distance; total time=   0.0s\n",
            "[CV] END .....metric=cosine, n_neighbors=3, weights=distance; total time=   0.0s\n",
            "[CV] END .....metric=cosine, n_neighbors=3, weights=distance; total time=   0.0s\n",
            "[CV] END .....metric=cosine, n_neighbors=3, weights=distance; total time=   0.0s\n",
            "[CV] END .....metric=cosine, n_neighbors=3, weights=distance; total time=   0.0s\n",
            "[CV] END ......metric=cosine, n_neighbors=4, weights=uniform; total time=   0.0s\n",
            "[CV] END ......metric=cosine, n_neighbors=4, weights=uniform; total time=   0.0s\n"
          ]
        },
        {
          "name": "stdout",
          "output_type": "stream",
          "text": [
            "[CV] END ......metric=cosine, n_neighbors=4, weights=uniform; total time=   0.0s\n",
            "[CV] END ......metric=cosine, n_neighbors=4, weights=uniform; total time=   0.0s\n",
            "[CV] END ......metric=cosine, n_neighbors=4, weights=uniform; total time=   0.0s\n",
            "[CV] END .....metric=cosine, n_neighbors=4, weights=distance; total time=   0.0s\n",
            "[CV] END .....metric=cosine, n_neighbors=4, weights=distance; total time=   0.0s\n",
            "[CV] END .....metric=cosine, n_neighbors=4, weights=distance; total time=   0.0s\n",
            "[CV] END .....metric=cosine, n_neighbors=4, weights=distance; total time=   0.0s\n",
            "[CV] END .....metric=cosine, n_neighbors=4, weights=distance; total time=   0.0s\n",
            "[CV] END ......metric=cosine, n_neighbors=5, weights=uniform; total time=   0.0s\n",
            "[CV] END ......metric=cosine, n_neighbors=5, weights=uniform; total time=   0.0s\n",
            "[CV] END ......metric=cosine, n_neighbors=5, weights=uniform; total time=   0.0s\n",
            "[CV] END ......metric=cosine, n_neighbors=5, weights=uniform; total time=   0.0s\n",
            "[CV] END ......metric=cosine, n_neighbors=5, weights=uniform; total time=   0.0s\n",
            "[CV] END .....metric=cosine, n_neighbors=5, weights=distance; total time=   0.0s\n",
            "[CV] END .....metric=cosine, n_neighbors=5, weights=distance; total time=   0.0s\n",
            "[CV] END .....metric=cosine, n_neighbors=5, weights=distance; total time=   0.0s\n",
            "[CV] END .....metric=cosine, n_neighbors=5, weights=distance; total time=   0.0s\n",
            "[CV] END .....metric=cosine, n_neighbors=5, weights=distance; total time=   0.0s\n",
            "[CV] END ......metric=cosine, n_neighbors=6, weights=uniform; total time=   0.0s\n",
            "[CV] END ......metric=cosine, n_neighbors=6, weights=uniform; total time=   0.0s\n",
            "[CV] END ......metric=cosine, n_neighbors=6, weights=uniform; total time=   0.0s\n",
            "[CV] END ......metric=cosine, n_neighbors=6, weights=uniform; total time=   0.0s\n",
            "[CV] END ......metric=cosine, n_neighbors=6, weights=uniform; total time=   0.0s\n",
            "[CV] END .....metric=cosine, n_neighbors=6, weights=distance; total time=   0.0s\n",
            "[CV] END .....metric=cosine, n_neighbors=6, weights=distance; total time=   0.0s\n",
            "[CV] END .....metric=cosine, n_neighbors=6, weights=distance; total time=   0.0s\n",
            "[CV] END .....metric=cosine, n_neighbors=6, weights=distance; total time=   0.0s\n",
            "[CV] END .....metric=cosine, n_neighbors=6, weights=distance; total time=   0.0s\n",
            "[CV] END ......metric=cosine, n_neighbors=7, weights=uniform; total time=   0.0s\n",
            "[CV] END ......metric=cosine, n_neighbors=7, weights=uniform; total time=   0.0s\n",
            "[CV] END ......metric=cosine, n_neighbors=7, weights=uniform; total time=   0.0s\n",
            "[CV] END ......metric=cosine, n_neighbors=7, weights=uniform; total time=   0.0s\n",
            "[CV] END ......metric=cosine, n_neighbors=7, weights=uniform; total time=   0.0s\n",
            "[CV] END .....metric=cosine, n_neighbors=7, weights=distance; total time=   0.0s\n",
            "[CV] END .....metric=cosine, n_neighbors=7, weights=distance; total time=   0.0s\n",
            "[CV] END .....metric=cosine, n_neighbors=7, weights=distance; total time=   0.0s\n",
            "[CV] END .....metric=cosine, n_neighbors=7, weights=distance; total time=   0.0s\n",
            "[CV] END .....metric=cosine, n_neighbors=7, weights=distance; total time=   0.0s\n",
            "[CV] END ......metric=cosine, n_neighbors=8, weights=uniform; total time=   0.0s\n",
            "[CV] END ......metric=cosine, n_neighbors=8, weights=uniform; total time=   0.0s\n",
            "[CV] END ......metric=cosine, n_neighbors=8, weights=uniform; total time=   0.0s\n",
            "[CV] END ......metric=cosine, n_neighbors=8, weights=uniform; total time=   0.0s\n",
            "[CV] END ......metric=cosine, n_neighbors=8, weights=uniform; total time=   0.0s\n",
            "[CV] END .....metric=cosine, n_neighbors=8, weights=distance; total time=   0.0s\n",
            "[CV] END .....metric=cosine, n_neighbors=8, weights=distance; total time=   0.0s\n",
            "[CV] END .....metric=cosine, n_neighbors=8, weights=distance; total time=   0.0s\n",
            "[CV] END .....metric=cosine, n_neighbors=8, weights=distance; total time=   0.0s\n",
            "[CV] END .....metric=cosine, n_neighbors=8, weights=distance; total time=   0.0s\n",
            "[CV] END ......metric=cosine, n_neighbors=9, weights=uniform; total time=   0.0s\n",
            "[CV] END ......metric=cosine, n_neighbors=9, weights=uniform; total time=   0.0s\n",
            "[CV] END ......metric=cosine, n_neighbors=9, weights=uniform; total time=   0.0s\n",
            "[CV] END ......metric=cosine, n_neighbors=9, weights=uniform; total time=   0.0s\n",
            "[CV] END ......metric=cosine, n_neighbors=9, weights=uniform; total time=   0.0s\n",
            "[CV] END .....metric=cosine, n_neighbors=9, weights=distance; total time=   0.0s\n",
            "[CV] END .....metric=cosine, n_neighbors=9, weights=distance; total time=   0.0s\n",
            "[CV] END .....metric=cosine, n_neighbors=9, weights=distance; total time=   0.0s\n",
            "[CV] END .....metric=cosine, n_neighbors=9, weights=distance; total time=   0.0s\n",
            "[CV] END .....metric=cosine, n_neighbors=9, weights=distance; total time=   0.0s\n",
            "[CV] END .....metric=cosine, n_neighbors=10, weights=uniform; total time=   0.0s\n",
            "[CV] END .....metric=cosine, n_neighbors=10, weights=uniform; total time=   0.0s\n",
            "[CV] END .....metric=cosine, n_neighbors=10, weights=uniform; total time=   0.0s\n",
            "[CV] END .....metric=cosine, n_neighbors=10, weights=uniform; total time=   0.0s\n",
            "[CV] END .....metric=cosine, n_neighbors=10, weights=uniform; total time=   0.0s\n",
            "[CV] END ....metric=cosine, n_neighbors=10, weights=distance; total time=   0.0s\n",
            "[CV] END ....metric=cosine, n_neighbors=10, weights=distance; total time=   0.0s\n",
            "[CV] END ....metric=cosine, n_neighbors=10, weights=distance; total time=   0.0s\n",
            "[CV] END ....metric=cosine, n_neighbors=10, weights=distance; total time=   0.0s\n",
            "[CV] END ....metric=cosine, n_neighbors=10, weights=distance; total time=   0.0s\n"
          ]
        },
        {
          "data": {
            "text/plain": [
              "GridSearchCV(cv=5, estimator=KNeighborsClassifier(),\n",
              "             param_grid=[{'metric': ['euclidean', 'manhattan', 'cosine'],\n",
              "                          'n_neighbors': range(1, 11),\n",
              "                          'weights': ['uniform', 'distance']}],\n",
              "             verbose=2)"
            ]
          },
          "execution_count": 27,
          "metadata": {},
          "output_type": "execute_result"
        }
      ],
      "source": [
        "from sklearn.model_selection import GridSearchCV\n",
        "\n",
        "param_grid = [{\n",
        "    'weights': [\"uniform\", \"distance\"],\n",
        "    'n_neighbors': range(1, 11),\n",
        "    'metric':['euclidean', 'manhattan', 'cosine']}]\n",
        "\n",
        "knn_clf = KNeighborsClassifier()\n",
        "grid_search = GridSearchCV(knn_clf, param_grid, cv=5, verbose=2)\n",
        "grid_search.fit(xs_train, ys_train)"
      ]
    },
    {
      "cell_type": "markdown",
      "metadata": {
        "pycharm": {
          "name": "#%% md\n"
        },
        "id": "86fXKe9RWQGX"
      },
      "source": [
        "We can now see what are the best hyper-parameter values found by the cross-validation."
      ]
    },
    {
      "cell_type": "code",
      "execution_count": null,
      "metadata": {
        "pycharm": {
          "name": "#%%\n"
        },
        "id": "67APyVZ_WQGX",
        "outputId": "d43e054b-eb3c-41ca-9686-8b6b2776a542"
      },
      "outputs": [
        {
          "data": {
            "text/plain": [
              "KNeighborsClassifier(metric='cosine', n_neighbors=9, weights='distance')"
            ]
          },
          "execution_count": 28,
          "metadata": {},
          "output_type": "execute_result"
        }
      ],
      "source": [
        "grid_search.best_estimator_"
      ]
    },
    {
      "cell_type": "markdown",
      "metadata": {
        "pycharm": {
          "name": "#%% md\n"
        },
        "id": "gvPl2Ep_WQGY"
      },
      "source": [
        "Let's now try this hyper-parameters on the test set."
      ]
    },
    {
      "cell_type": "code",
      "execution_count": null,
      "metadata": {
        "pycharm": {
          "name": "#%%\n"
        },
        "id": "TTfGgNPRWQGY",
        "outputId": "5df990bd-de0f-4a93-9ef6-fc9f51dc53aa"
      },
      "outputs": [
        {
          "name": "stdout",
          "output_type": "stream",
          "text": [
            "Train accuracy of kNN 1.0\n",
            "Test accuracy of kNN 0.9444444444444444\n"
          ]
        }
      ],
      "source": [
        "knn_clf = KNeighborsClassifier(metric='cosine', n_neighbors=4, weights='distance')\n",
        "\n",
        "knn_clf.fit(xs_train, ys_train)\n",
        "\n",
        "ys_train_pred = knn_clf.predict(xs_train)\n",
        "ys_test_pred = knn_clf.predict(xs_test)\n",
        "\n",
        "print('Train accuracy of kNN', accuracy(ys_train, ys_train_pred))\n",
        "print('Test accuracy of kNN', accuracy(ys_test, ys_test_pred))"
      ]
    },
    {
      "cell_type": "markdown",
      "metadata": {
        "pycharm": {
          "name": "#%% md\n"
        },
        "id": "QHbEpcqLWQGZ"
      },
      "source": [
        "The accuracy measured on the test set is now a better estimate of the accuracy we would expect on unseen examples."
      ]
    },
    {
      "cell_type": "markdown",
      "metadata": {
        "pycharm": {
          "name": "#%% md\n"
        },
        "id": "vaII2pg4WQGZ"
      },
      "source": [
        "# Support Vector Machines\n",
        "\n",
        "Here I will introduce you how to use the Support Vector Machine (SVM) implementation of scikit-learn.\n",
        "\n",
        "Note how we are setting the $C$ hyper-parameter of SVM. $C$ controls the trade-off between having a small and strict\n",
        "margin and a wider and loose margin. Following we will set $C$ to infinity which makes the margin infinitely strict.\n",
        "This means that based on the dataset, the fitting of the SVM may fail if the training algorithm fails to separate all\n",
        "the training examples perfectly."
      ]
    },
    {
      "cell_type": "code",
      "execution_count": 27,
      "metadata": {
        "pycharm": {
          "name": "#%%\n"
        },
        "id": "qoEp76YmWQGa"
      },
      "outputs": [],
      "source": [
        "from sklearn.svm import SVC\n",
        "\n",
        "svm_clf = SVC(kernel=\"linear\", C=float(\"inf\"))"
      ]
    },
    {
      "cell_type": "markdown",
      "metadata": {
        "pycharm": {
          "name": "#%% md\n"
        },
        "id": "Sqiqwd__WQGa"
      },
      "source": [
        "We now train this classifier."
      ]
    },
    {
      "cell_type": "code",
      "execution_count": 29,
      "metadata": {
        "pycharm": {
          "name": "#%%\n"
        },
        "colab": {
          "base_uri": "https://localhost:8080/",
          "height": 329
        },
        "id": "1eNtFcF6WQGb",
        "outputId": "4c0df389-5b8e-4e35-8ece-b401d06b22ad"
      },
      "outputs": [
        {
          "output_type": "error",
          "ename": "InvalidParameterError",
          "evalue": "ignored",
          "traceback": [
            "\u001b[0;31m---------------------------------------------------------------------------\u001b[0m",
            "\u001b[0;31mInvalidParameterError\u001b[0m                     Traceback (most recent call last)",
            "\u001b[0;32m<ipython-input-29-79d89ef80483>\u001b[0m in \u001b[0;36m<module>\u001b[0;34m\u001b[0m\n\u001b[0;32m----> 1\u001b[0;31m \u001b[0msvm_clf\u001b[0m\u001b[0;34m.\u001b[0m\u001b[0mfit\u001b[0m\u001b[0;34m(\u001b[0m\u001b[0mxs_train\u001b[0m\u001b[0;34m,\u001b[0m \u001b[0mys_train\u001b[0m\u001b[0;34m)\u001b[0m\u001b[0;34m\u001b[0m\u001b[0;34m\u001b[0m\u001b[0m\n\u001b[0m",
            "\u001b[0;32m/usr/local/lib/python3.9/dist-packages/sklearn/svm/_base.py\u001b[0m in \u001b[0;36mfit\u001b[0;34m(self, X, y, sample_weight)\u001b[0m\n\u001b[1;32m    178\u001b[0m         \u001b[0mmatrices\u001b[0m \u001b[0;32mas\u001b[0m \u001b[0minput\u001b[0m\u001b[0;34m.\u001b[0m\u001b[0;34m\u001b[0m\u001b[0;34m\u001b[0m\u001b[0m\n\u001b[1;32m    179\u001b[0m         \"\"\"\n\u001b[0;32m--> 180\u001b[0;31m         \u001b[0mself\u001b[0m\u001b[0;34m.\u001b[0m\u001b[0m_validate_params\u001b[0m\u001b[0;34m(\u001b[0m\u001b[0;34m)\u001b[0m\u001b[0;34m\u001b[0m\u001b[0;34m\u001b[0m\u001b[0m\n\u001b[0m\u001b[1;32m    181\u001b[0m \u001b[0;34m\u001b[0m\u001b[0m\n\u001b[1;32m    182\u001b[0m         \u001b[0mrnd\u001b[0m \u001b[0;34m=\u001b[0m \u001b[0mcheck_random_state\u001b[0m\u001b[0;34m(\u001b[0m\u001b[0mself\u001b[0m\u001b[0;34m.\u001b[0m\u001b[0mrandom_state\u001b[0m\u001b[0;34m)\u001b[0m\u001b[0;34m\u001b[0m\u001b[0;34m\u001b[0m\u001b[0m\n",
            "\u001b[0;32m/usr/local/lib/python3.9/dist-packages/sklearn/base.py\u001b[0m in \u001b[0;36m_validate_params\u001b[0;34m(self)\u001b[0m\n\u001b[1;32m    598\u001b[0m         \u001b[0maccepted\u001b[0m \u001b[0mconstraints\u001b[0m\u001b[0;34m.\u001b[0m\u001b[0;34m\u001b[0m\u001b[0;34m\u001b[0m\u001b[0m\n\u001b[1;32m    599\u001b[0m         \"\"\"\n\u001b[0;32m--> 600\u001b[0;31m         validate_parameter_constraints(\n\u001b[0m\u001b[1;32m    601\u001b[0m             \u001b[0mself\u001b[0m\u001b[0;34m.\u001b[0m\u001b[0m_parameter_constraints\u001b[0m\u001b[0;34m,\u001b[0m\u001b[0;34m\u001b[0m\u001b[0;34m\u001b[0m\u001b[0m\n\u001b[1;32m    602\u001b[0m             \u001b[0mself\u001b[0m\u001b[0;34m.\u001b[0m\u001b[0mget_params\u001b[0m\u001b[0;34m(\u001b[0m\u001b[0mdeep\u001b[0m\u001b[0;34m=\u001b[0m\u001b[0;32mFalse\u001b[0m\u001b[0;34m)\u001b[0m\u001b[0;34m,\u001b[0m\u001b[0;34m\u001b[0m\u001b[0;34m\u001b[0m\u001b[0m\n",
            "\u001b[0;32m/usr/local/lib/python3.9/dist-packages/sklearn/utils/_param_validation.py\u001b[0m in \u001b[0;36mvalidate_parameter_constraints\u001b[0;34m(parameter_constraints, params, caller_name)\u001b[0m\n\u001b[1;32m     95\u001b[0m                 )\n\u001b[1;32m     96\u001b[0m \u001b[0;34m\u001b[0m\u001b[0m\n\u001b[0;32m---> 97\u001b[0;31m             raise InvalidParameterError(\n\u001b[0m\u001b[1;32m     98\u001b[0m                 \u001b[0;34mf\"The {param_name!r} parameter of {caller_name} must be\"\u001b[0m\u001b[0;34m\u001b[0m\u001b[0;34m\u001b[0m\u001b[0m\n\u001b[1;32m     99\u001b[0m                 \u001b[0;34mf\" {constraints_str}. Got {param_val!r} instead.\"\u001b[0m\u001b[0;34m\u001b[0m\u001b[0;34m\u001b[0m\u001b[0m\n",
            "\u001b[0;31mInvalidParameterError\u001b[0m: The 'C' parameter of SVC must be a float in the range (0.0, inf). Got inf instead."
          ]
        }
      ],
      "source": [
        "svm_clf.fit(xs_train, ys_train)"
      ]
    },
    {
      "cell_type": "markdown",
      "metadata": {
        "pycharm": {
          "name": "#%% md\n"
        },
        "id": "NYo05e7VWQGb"
      },
      "source": [
        "The training went well, which means that the SVM training algorithm managed to perfectly fit the training examples.\n",
        "We can now verify this on the training set. We will also test the performance of this classifier on the test set."
      ]
    },
    {
      "cell_type": "code",
      "execution_count": 30,
      "metadata": {
        "pycharm": {
          "name": "#%%\n"
        },
        "colab": {
          "base_uri": "https://localhost:8080/",
          "height": 381
        },
        "id": "jfTsqkRuWQGb",
        "outputId": "8648d6e5-32e6-41e1-ab1f-517ed0672496"
      },
      "outputs": [
        {
          "output_type": "error",
          "ename": "NotFittedError",
          "evalue": "ignored",
          "traceback": [
            "\u001b[0;31m---------------------------------------------------------------------------\u001b[0m",
            "\u001b[0;31mNotFittedError\u001b[0m                            Traceback (most recent call last)",
            "\u001b[0;32m<ipython-input-30-83b36820234b>\u001b[0m in \u001b[0;36m<module>\u001b[0;34m\u001b[0m\n\u001b[0;32m----> 1\u001b[0;31m \u001b[0mys_train_pred\u001b[0m \u001b[0;34m=\u001b[0m \u001b[0msvm_clf\u001b[0m\u001b[0;34m.\u001b[0m\u001b[0mpredict\u001b[0m\u001b[0;34m(\u001b[0m\u001b[0mxs_train\u001b[0m\u001b[0;34m)\u001b[0m\u001b[0;34m\u001b[0m\u001b[0;34m\u001b[0m\u001b[0m\n\u001b[0m\u001b[1;32m      2\u001b[0m \u001b[0mys_test_pred\u001b[0m \u001b[0;34m=\u001b[0m \u001b[0msvm_clf\u001b[0m\u001b[0;34m.\u001b[0m\u001b[0mpredict\u001b[0m\u001b[0;34m(\u001b[0m\u001b[0mxs_test\u001b[0m\u001b[0;34m)\u001b[0m\u001b[0;34m\u001b[0m\u001b[0;34m\u001b[0m\u001b[0m\n\u001b[1;32m      3\u001b[0m \u001b[0;34m\u001b[0m\u001b[0m\n\u001b[1;32m      4\u001b[0m \u001b[0mprint\u001b[0m\u001b[0;34m(\u001b[0m\u001b[0;34m'Train accuracy of SVM'\u001b[0m\u001b[0;34m,\u001b[0m \u001b[0maccuracy\u001b[0m\u001b[0;34m(\u001b[0m\u001b[0mys_train\u001b[0m\u001b[0;34m,\u001b[0m \u001b[0mys_train_pred\u001b[0m\u001b[0;34m)\u001b[0m\u001b[0;34m)\u001b[0m\u001b[0;34m\u001b[0m\u001b[0;34m\u001b[0m\u001b[0m\n\u001b[1;32m      5\u001b[0m \u001b[0mprint\u001b[0m\u001b[0;34m(\u001b[0m\u001b[0;34m'Test accuracy of SVM'\u001b[0m\u001b[0;34m,\u001b[0m \u001b[0maccuracy\u001b[0m\u001b[0;34m(\u001b[0m\u001b[0mys_test\u001b[0m\u001b[0;34m,\u001b[0m \u001b[0mys_test_pred\u001b[0m\u001b[0;34m)\u001b[0m\u001b[0;34m)\u001b[0m\u001b[0;34m\u001b[0m\u001b[0;34m\u001b[0m\u001b[0m\n",
            "\u001b[0;32m/usr/local/lib/python3.9/dist-packages/sklearn/svm/_base.py\u001b[0m in \u001b[0;36mpredict\u001b[0;34m(self, X)\u001b[0m\n\u001b[1;32m    805\u001b[0m             \u001b[0mClass\u001b[0m \u001b[0mlabels\u001b[0m \u001b[0;32mfor\u001b[0m \u001b[0msamples\u001b[0m \u001b[0;32min\u001b[0m \u001b[0mX\u001b[0m\u001b[0;34m.\u001b[0m\u001b[0;34m\u001b[0m\u001b[0;34m\u001b[0m\u001b[0m\n\u001b[1;32m    806\u001b[0m         \"\"\"\n\u001b[0;32m--> 807\u001b[0;31m         \u001b[0mcheck_is_fitted\u001b[0m\u001b[0;34m(\u001b[0m\u001b[0mself\u001b[0m\u001b[0;34m)\u001b[0m\u001b[0;34m\u001b[0m\u001b[0;34m\u001b[0m\u001b[0m\n\u001b[0m\u001b[1;32m    808\u001b[0m         \u001b[0;32mif\u001b[0m \u001b[0mself\u001b[0m\u001b[0;34m.\u001b[0m\u001b[0mbreak_ties\u001b[0m \u001b[0;32mand\u001b[0m \u001b[0mself\u001b[0m\u001b[0;34m.\u001b[0m\u001b[0mdecision_function_shape\u001b[0m \u001b[0;34m==\u001b[0m \u001b[0;34m\"ovo\"\u001b[0m\u001b[0;34m:\u001b[0m\u001b[0;34m\u001b[0m\u001b[0;34m\u001b[0m\u001b[0m\n\u001b[1;32m    809\u001b[0m             raise ValueError(\n",
            "\u001b[0;32m/usr/local/lib/python3.9/dist-packages/sklearn/utils/validation.py\u001b[0m in \u001b[0;36mcheck_is_fitted\u001b[0;34m(estimator, attributes, msg, all_or_any)\u001b[0m\n\u001b[1;32m   1388\u001b[0m \u001b[0;34m\u001b[0m\u001b[0m\n\u001b[1;32m   1389\u001b[0m     \u001b[0;32mif\u001b[0m \u001b[0;32mnot\u001b[0m \u001b[0mfitted\u001b[0m\u001b[0;34m:\u001b[0m\u001b[0;34m\u001b[0m\u001b[0;34m\u001b[0m\u001b[0m\n\u001b[0;32m-> 1390\u001b[0;31m         \u001b[0;32mraise\u001b[0m \u001b[0mNotFittedError\u001b[0m\u001b[0;34m(\u001b[0m\u001b[0mmsg\u001b[0m \u001b[0;34m%\u001b[0m \u001b[0;34m{\u001b[0m\u001b[0;34m\"name\"\u001b[0m\u001b[0;34m:\u001b[0m \u001b[0mtype\u001b[0m\u001b[0;34m(\u001b[0m\u001b[0mestimator\u001b[0m\u001b[0;34m)\u001b[0m\u001b[0;34m.\u001b[0m\u001b[0m__name__\u001b[0m\u001b[0;34m}\u001b[0m\u001b[0;34m)\u001b[0m\u001b[0;34m\u001b[0m\u001b[0;34m\u001b[0m\u001b[0m\n\u001b[0m\u001b[1;32m   1391\u001b[0m \u001b[0;34m\u001b[0m\u001b[0m\n\u001b[1;32m   1392\u001b[0m \u001b[0;34m\u001b[0m\u001b[0m\n",
            "\u001b[0;31mNotFittedError\u001b[0m: This SVC instance is not fitted yet. Call 'fit' with appropriate arguments before using this estimator."
          ]
        }
      ],
      "source": [
        "ys_train_pred = svm_clf.predict(xs_train)\n",
        "ys_test_pred = svm_clf.predict(xs_test)\n",
        "\n",
        "print('Train accuracy of SVM', accuracy(ys_train, ys_train_pred))\n",
        "print('Test accuracy of SVM', accuracy(ys_test, ys_test_pred))"
      ]
    },
    {
      "cell_type": "markdown",
      "metadata": {
        "pycharm": {
          "name": "#%% md\n"
        },
        "id": "5stG9rJLWQGc"
      },
      "source": [
        "How would you find the best hyper-parameter C value? Try re-implement the code used to validate the kNN\n",
        "classifier above."
      ]
    }
  ],
  "metadata": {
    "kernelspec": {
      "display_name": "Python 3 (ipykernel)",
      "language": "python",
      "name": "python3"
    },
    "language_info": {
      "codemirror_mode": {
        "name": "ipython",
        "version": 3
      },
      "file_extension": ".py",
      "mimetype": "text/x-python",
      "name": "python",
      "nbconvert_exporter": "python",
      "pygments_lexer": "ipython3",
      "version": "3.9.16"
    },
    "colab": {
      "provenance": [],
      "include_colab_link": true
    }
  },
  "nbformat": 4,
  "nbformat_minor": 0
}